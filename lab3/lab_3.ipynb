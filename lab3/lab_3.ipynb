{
 "cells": [
  {
   "cell_type": "markdown",
   "metadata": {},
   "source": [
    "# Sieci neuronowe"
   ]
  },
  {
   "cell_type": "markdown",
   "metadata": {},
   "source": [
    "## Wstęp\n",
    "\n",
    "Celem laboratorium jest zapoznanie się z podstawami sieci neuronowych oraz uczeniem głębokim (*deep learning*). Zapoznasz się na nim z następującymi tematami:\n",
    "- treningiem prostych sieci neuronowych, w szczególności z:\n",
    "  - regresją liniową w sieciach neuronowych\n",
    "  - optymalizacją funkcji kosztu\n",
    "  - algorytmem spadku wzdłuż gradientu\n",
    "  - siecią typu MultiLayer Perceptron (MLP)\n",
    "- frameworkiem PyTorch, w szczególności z:\n",
    "  - ładowaniem danych\n",
    "  - preprocessingiem danych\n",
    "  - pisaniem pętli treningowej i walidacyjnej\n",
    "  - walidacją modeli\n",
    "- architekturą i hiperparametrami sieci MLP, w szczególności z:\n",
    "  - warstwami gęstymi (w pełni połączonymi)\n",
    "  - funkcjami aktywacji\n",
    "  - regularyzacją: L2, dropout"
   ]
  },
  {
   "cell_type": "markdown",
   "metadata": {},
   "source": [
    "## Wykorzystywane biblioteki\n",
    "\n",
    "Zaczniemy od pisania ręcznie prostych sieci w bibliotece NumPy, służącej do obliczeń numerycznych na CPU. Później przejdziemy do wykorzystywania frameworka PyTorch, służącego do obliczeń numerycznych na CPU, GPU oraz automatycznego różniczkowania, wykorzystywanego głównie do treningu sieci neuronowych.\n",
    "\n",
    "Wykorzystamy PyTorcha ze względu na popularność, łatwość instalacji i użycia oraz dużą kontrolę nad niskopoziomowymi aspektami budowy i treningu sieci neuronowych. Framework ten został stworzony do zastosowań badawczych i naukowych, ale ze względu na wygodę użycia stał się bardzo popularny także w przemyśle. W szczególności całkowicie zdominował przetwarzanie języka naturalnego (NLP) oraz uczenie na grafach.\n",
    "\n",
    "Pierwszy duży framework do deep learningu oraz obecnie najpopularniejszy to TensorFlow, wraz z wysokopoziomową nakładką Keras. Są jednak szanse, że Google (autorzy) będzie go powoli porzucać na rzecz ich nowego frameworka JAX ([dyskusja](https://www.reddit.com/r/MachineLearning/comments/vfl57t/d_google_quietly_moving_its_products_from/), [artykuł Business Insidera](https://www.businessinsider.com/facebook-pytorch-beat-google-tensorflow-jax-meta-ai-2022-6?IR=T)), który jest bardzo świeżym, ale ciekawym narzędziem.\n",
    "\n",
    "Trzecia, ale znacznie mniej popularna od powyższych opcja to Apache MXNet."
   ]
  },
  {
   "cell_type": "markdown",
   "metadata": {},
   "source": [
    "## Konfiguracja własnego komputera\n",
    "\n",
    "Jeżeli korzystasz z własnego komputera, to musisz zainstalować trochę więcej bibliotek (Google Colab ma je już zainstalowane).\n",
    "\n",
    "Jeżeli nie masz GPU lub nie chcesz z niego korzystać, to wystarczy znaleźć odpowiednią komendę CPU [na stronie PyTorcha](https://pytorch.org/get-started/locally/). Dla Anacondy odpowiednia komenda została podana poniżej, dla pip'a znajdź ją na stronie.\n",
    "\n",
    "Jeżeli chcesz korzystać ze wsparcia GPU (na tym laboratorium nie będzie potrzebne, na kolejnych może przyspieszyć nieco obliczenia), to musi być to odpowiednio nowa karta Nvidii, mająca CUDA compatibility ([lista](https://developer.nvidia.com/cuda-gpus)). Poza PyTorchem będzie potrzebne narzędzie Nvidia CUDA w wersji 11.6 lub 11.7. Instalacja na Windowsie jest bardzo prosta (wystarczy ściągnąć plik EXE i zainstalować jak każdy inny program). Instalacja na Linuxie jest trudna i można względnie łatwo zepsuć sobie system, ale jeżeli chcesz spróbować, to [ten tutorial](https://www.youtube.com/results?search_query=nvidia+cuda+install+ubuntu+20.04) jest bardzo dobry."
   ]
  },
  {
   "cell_type": "code",
   "execution_count": 1,
   "metadata": {},
   "outputs": [],
   "source": [
    "# for conda users\n",
    "# !conda install -y matplotlib pandas pytorch torchvision -c pytorch -c conda-forge"
   ]
  },
  {
   "cell_type": "markdown",
   "metadata": {
    "id": "Othm3C2lLAsj"
   },
   "source": [
    "## Wprowadzenie\n",
    "\n",
    "Zanim zaczniemy naszą przygodę z sieciami neuronowymi, przyjrzyjmy się prostemu przykładowi regresji liniowej na syntetycznych danych:"
   ]
  },
  {
   "cell_type": "code",
   "execution_count": 2,
   "metadata": {
    "id": "rnJsfxbnLAsj"
   },
   "outputs": [],
   "source": [
    "from typing import Tuple, Dict\n",
    "\n",
    "import numpy as np\n",
    "import matplotlib.pyplot as plt"
   ]
  },
  {
   "cell_type": "code",
   "execution_count": 3,
   "metadata": {
    "colab": {
     "base_uri": "https://localhost:8080/",
     "height": 282
    },
    "id": "EaYpEXzBLAsl",
    "outputId": "2f8d2922-72f0-4d38-8548-d1262adf522e"
   },
   "outputs": [
    {
     "data": {
      "text/plain": [
       "<matplotlib.collections.PathCollection at 0x206f6a01b20>"
      ]
     },
     "execution_count": 3,
     "metadata": {},
     "output_type": "execute_result"
    },
    {
     "data": {
      "image/png": "[encoded data removed]",
      "text/plain": [
       "<Figure size 640x480 with 1 Axes>"
      ]
     },
     "metadata": {},
     "output_type": "display_data"
    }
   ],
   "source": [
    "np.random.seed(0)\n",
    "\n",
    "x = np.linspace(0, 1, 100)\n",
    "y = x + np.random.normal(scale=0.1, size=x.shape)\n",
    "\n",
    "plt.scatter(x, y)"
   ]
  },
  {
   "cell_type": "markdown",
   "metadata": {
    "editable": true,
    "id": "PEM_-yKELAsl",
    "slideshow": {
     "slide_type": ""
    },
    "tags": []
   },
   "source": [
    "W przeciwieństwie do laboratorium 1, tym razem będziemy chcieli rozwiązać ten problem własnoręcznie, bez użycia wysokopoziomowego interfejsu Scikit-learn'a. W tym celu musimy sobie przypomnieć sformułowanie naszego **problemu optymalizacyjnego (optimization problem)**.\n",
    "\n",
    "W przypadku prostej regresji liniowej (1 zmienna) mamy model postaci $\\hat{y} = \\alpha x + \\beta$, z dwoma parametrami, których będziemy się uczyć. Miarą niedopasowania modelu o danych parametrach jest **funkcja kosztu (cost function)**, nazywana też funkcją celu. Najczęściej używa się **błędu średniokwadratowego (mean squared error, MSE)**:\n",
    "$$\\large\n",
    "MSE = \\frac{1}{N} \\sum_{i=1}^{N} (y_i - \\hat{y_i})^2\n",
    "$$\n",
    "\n",
    "Od jakich $\\alpha$ i $\\beta$ zacząć? W najprostszym wypadku wystarczy po prostu je wylosować jako niewielkie liczby zmiennoprzecinkowe."
   ]
  },
  {
   "cell_type": "markdown",
   "metadata": {
    "editable": true,
    "id": "PEM_-yKELAsl",
    "slideshow": {
     "slide_type": ""
    },
    "tags": [
     "ex"
    ]
   },
   "source": [
    "### Zadanie 1 (0.5 punktu)\n",
    "\n",
    "Uzupełnij kod funkcji `mse`, obliczającej błąd średniokwadratowy. Wykorzystaj NumPy'a w celu wektoryzacji obliczeń dla wydajności."
   ]
  },
  {
   "cell_type": "code",
   "execution_count": 4,
   "metadata": {
    "colab": {
     "base_uri": "https://localhost:8080/"
    },
    "editable": true,
    "id": "RaA7Q46TLAsm",
    "outputId": "5c57fe58-1934-4d21-9a7b-d14e9a23140b",
    "slideshow": {
     "slide_type": ""
    },
    "tags": [
     "ex"
    ]
   },
   "outputs": [],
   "source": [
    "def mse(y: np.ndarray, y_hat: np.ndarray) -> float:\n",
    "    # implement me!\n",
    "    # your_code\n",
    "    return np.mean(np.square(y - y_hat))"
   ]
  },
  {
   "cell_type": "code",
   "execution_count": 5,
   "metadata": {
    "colab": {
     "base_uri": "https://localhost:8080/",
     "height": 282
    },
    "editable": true,
    "id": "qSGfamGbLAsm",
    "outputId": "733ce15f-ae75-466b-e7ee-eb3c9d9d534c",
    "slideshow": {
     "slide_type": ""
    },
    "tags": [
     "ex"
    ]
   },
   "outputs": [
    {
     "name": "stdout",
     "output_type": "stream",
     "text": [
      "MSE: 0.133\n"
     ]
    },
    {
     "data": {
      "text/plain": [
       "[<matplotlib.lines.Line2D at 0x206f6a59130>]"
      ]
     },
     "execution_count": 5,
     "metadata": {},
     "output_type": "execute_result"
    },
    {
     "data": {
      "image/png": "[encoded data removed]",
      "text/plain": [
       "<Figure size 640x480 with 1 Axes>"
      ]
     },
     "metadata": {},
     "output_type": "display_data"
    }
   ],
   "source": [
    "a = np.random.rand()\n",
    "b = np.random.rand()\n",
    "print(f\"MSE: {mse(y, a * x + b):.3f}\")\n",
    "\n",
    "plt.scatter(x, y)\n",
    "plt.plot(x, a * x + b, color=\"g\", linewidth=4)"
   ]
  },
  {
   "cell_type": "markdown",
   "metadata": {
    "id": "Y--E9Mp9LAsn"
   },
   "source": [
    "Losowe parametry radzą sobie nienajlepiej. Jak lepiej dopasować naszą prostą do danych? Zawsze możemy starać się wyprowadzić rozwiązanie analitycznie i w tym wypadku nawet nam się uda. Jest to jednak szczególny i dość rzadki przypadek, a w szczególności nie będzie to możliwe w większych sieciach neuronowych.\n",
    "\n",
    "Potrzebna nam będzie **metoda optymalizacji (optimization method)**, dająca wartości parametrów minimalizujące dowolną różniczkowalną funkcję kosztu. Zdecydowanie najpopularniejszy jest tutaj **spadek wzdłuż gradientu (gradient descent)**.\n",
    "\n",
    "Metoda ta wywodzi się z prostych obserwacji, które tutaj przedstawimy. Bardziej szczegółowe rozwinięcie dla zainteresowanych: [sekcja 4.3 \"Deep Learning Book\"](https://www.deeplearningbook.org/contents/numerical.html), [ten praktyczny kurs](https://cs231n.github.io/optimization-1/), [analiza oryginalnej publikacji Cauchy'ego](https://www.math.uni-bielefeld.de/documenta/vol-ismp/40_lemarechal-claude.pdf) (oryginał w języku francuskim).\n",
    "\n",
    "Pochodna jest dokładnie równa granicy funkcji. Dla małego $\\epsilon$ można ją przybliżyć jako:\n",
    "\n",
    "$$\\large\n",
    "\\frac{f(x)}{dx} \\approx \\frac{f(x+\\epsilon) - f(x)}{\\epsilon}\n",
    "$$\n",
    "\n",
    "Przyglądając się temu równaniu widzimy, że: \n",
    "* dla funkcji rosnącej ($f(x+\\epsilon) > f(x)$) wyrażenie $\\frac{f(x)}{dx}$ będzie miało wartość dodatnią \n",
    "* dla funkcji malejącej ($f(x+\\epsilon) < f(x)$) wyrażenie $\\frac{f(x)}{dx}$ będzie miało wartość ujemną \n",
    "\n",
    "Widzimy więc, że potrafimy wskazać kierunek zmniejszenia wartości funkcji, patrząc na znak pochodnej. Zaobserwowano także, że amplituda wartości w $\\frac{f(x)}{dx}$ jest tym większa, im dalej jesteśmy od minimum (maximum). Pochodna wyznacza więc, w jakim kierunku funkcja najszybciej rośnie, zaś przeciwny zwrot to ten, w którym funkcja najszybciej spada.\n",
    "\n",
    "Stosując powyższe do optymalizacji, mamy:\n",
    "$$\\large\n",
    "x_{t+1} = x_{t} -  \\alpha * \\frac{f(x)}{dx}\n",
    "$$\n",
    "\n",
    "$\\alpha$ to niewielka wartość (rzędu zwykle $10^{-5} - 10^{-2}$), wprowadzona, aby trzymać się założenia o małej zmianie parametrów ($\\epsilon$). Nazywa się ją **stałą uczącą (learning rate)** i jest zwykle najważniejszym hiperparametrem podczas nauki sieci.\n",
    "\n",
    "Metoda ta zakłada, że używamy całego zbioru danych do aktualizacji parametrów w każdym kroku, co nazywa się po prostu GD (od *gradient descent*) albo *full batch GD*. Wtedy każdy krok optymalizacji nazywa się **epoką (epoch)**.\n",
    "\n",
    "Im większa stała ucząca, tym większe nasze kroki podczas minimalizacji. Możemy więc uczyć się szybciej, ale istnieje ryzyko, że będziemy \"przeskakiwać\" minima. Mniejsza stała ucząca to wolniejszy, ale dokładniejszy trening. Jednak nie zawsze ona pozwala osiągnąć lepsze wyniki, bo może okazać się, że utkniemy w minimum lokalnym. Można także zmieniać stałą uczącą podczas treningu, co nazywa się **learning rate scheduling (LR scheduling)**. Obrazowo:\n",
    "\n",
    "![learning_rate](http://www.bdhammel.com/assets/learning-rate/lr-types.png)"
   ]
  },
  {
   "cell_type": "markdown",
   "metadata": {
    "id": "496qEjkVLAso"
   },
   "source": [
    "![interactive LR](http://cdn-images-1.medium.com/max/640/1*eeIvlwkMNG1wSmj3FR6M2g.gif)"
   ]
  },
  {
   "cell_type": "markdown",
   "metadata": {
    "id": "RYkyAHKzLAsp"
   },
   "source": [
    "Policzmy więc pochodną dla naszej funkcji kosztu MSE. Pochodną liczymy po parametrach naszego modelu, bo to właśnie je chcemy dopasować tak, żeby koszt był jak najmniejszy:\n",
    "\n",
    "$$\\large\n",
    "MSE = \\frac{1}{N} \\sum_{i=1}^{N} (y_i - \\hat{y_i})^2\n",
    "$$\n",
    "\n",
    "W powyższym wzorze tylko $\\hat{y_i}$ jest zależny od $a$ oraz $b$. Możemy wykorzystać tu regułę łańcuchową (*chain rule*) i policzyć pochodne po naszych parametrach w sposób następujący:\n",
    "\n",
    "$$\\large\n",
    "\\frac{\\text{d} MSE}{\\text{d} a} = \\frac{1}{N} \\sum_{i=1}^{N} \\frac{\\text{d} (y_i - \\hat{y_i})^2}{\\text{d} \\hat{y_i}} \\frac{\\text{d} \\hat{y_i}}{\\text{d} a}\n",
    "$$\n",
    "\n",
    "$$\\large\n",
    "\\frac{\\text{d} MSE}{\\text{d} b} = \\frac{1}{N} \\sum_{i=1}^{N} \\frac{\\text{d} (y_i - \\hat{y_i})^2}{\\text{d} \\hat{y_i}} \\frac{\\text{d} \\hat{y_i}}{\\text{d} b}\n",
    "$$\n",
    "\n",
    "Policzmy te pochodne po kolei:\n",
    "\n",
    "$$\\large\n",
    "\\frac{\\text{d} (y_i - \\hat{y_i})^2}{\\text{d} \\hat{y_i}} = -2 \\cdot (y_i - \\hat{y_i})\n",
    "$$\n",
    "\n",
    "$$\\large\n",
    "\\frac{\\text{d} \\hat{y_i}}{\\text{d} a} = x_i\n",
    "$$\n",
    "\n",
    "$$\\large\n",
    "\\frac{\\text{d} \\hat{y_i}}{\\text{d} b} = 1\n",
    "$$\n",
    "\n",
    "Łącząc powyższe wyniki dostaniemy:\n",
    "\n",
    "$$\\large\n",
    "\\frac{\\text{d} MSE}{\\text{d} a} = \\frac{-2}{N} \\sum_{i=1}^{N} (y_i - \\hat{y_i}) \\cdot {x_i}\n",
    "$$\n",
    "\n",
    "$$\\large\n",
    "\\frac{\\text{d} MSE}{\\text{d} b} = \\frac{-2}{N} \\sum_{i=1}^{N} (y_i - \\hat{y_i})\n",
    "$$\n",
    "\n",
    "Aktualizacja parametrów wygląda tak:\n",
    "\n",
    "$$\\large\n",
    "a' = a - \\alpha * \\left( \\frac{-2}{N} \\sum_{i=1}^N (y_i - \\hat{y}_i) \\cdot x_i \\right)\n",
    "$$\n",
    "$$\\large\n",
    "b' = b - \\alpha * \\left( \\frac{-2}{N} \\sum_{i=1}^N (y_i - \\hat{y}_i) \\right)\n",
    "$$\n",
    "\n",
    "Liczymy więc pochodną funkcji kosztu, a potem za pomocą reguły łańcuchowej \"cofamy się\", dochodząc do tego, jak każdy z parametrów wpływa na błąd i w jaki sposób powinniśmy go zmienić. Nazywa się to **propagacją wsteczną (backpropagation)** i jest podstawowym mechanizmem umożliwiającym naukę sieci neuronowych za pomocą spadku wzdłuż gradientu. Więcej możesz o tym przeczytać [tutaj](https://cs231n.github.io/optimization-2/)."
   ]
  },
  {
   "cell_type": "markdown",
   "metadata": {
    "editable": true,
    "slideshow": {
     "slide_type": ""
    },
    "tags": [
     "ex"
    ]
   },
   "source": [
    "### Zadanie 2 (1.0 punkt)\n",
    "\n",
    "Zaimplementuj funkcję realizującą jedną epokę treningową. Zauważ, że `x` oraz `y` są wektorami. Oblicz predykcję przy aktualnych parametrach oraz zaktualizuj je zgodnie z powyższymi wzorami."
   ]
  },
  {
   "cell_type": "code",
   "execution_count": 6,
   "metadata": {
    "colab": {
     "base_uri": "https://localhost:8080/"
    },
    "editable": true,
    "id": "4qbdWOSULAsp",
    "outputId": "055607ae-87aa-470a-e6da-25682c82d470",
    "slideshow": {
     "slide_type": ""
    },
    "tags": [
     "ex"
    ]
   },
   "outputs": [],
   "source": [
    "def optimize(\n",
    "    x: np.ndarray, y: np.ndarray, a: float, b: float, learning_rate: float = 0.1\n",
    "):\n",
    "    y_hat = a * x + b\n",
    "    errors = y - y_hat\n",
    "    # implement me!\n",
    "    # your_code\n",
    "    a_prim = a - learning_rate * (-2) * np.mean(errors * x)\n",
    "    b_prim = b - learning_rate * (-2) * np.mean(errors)\n",
    "    return a_prim, b_prim"
   ]
  },
  {
   "cell_type": "code",
   "execution_count": 7,
   "metadata": {
    "editable": true,
    "slideshow": {
     "slide_type": ""
    },
    "tags": [
     "ex"
    ]
   },
   "outputs": [
    {
     "name": "stdout",
     "output_type": "stream",
     "text": [
      "step 0 loss: 0.1330225119404028\n",
      "step 100 loss: 0.012673197778527677\n",
      "step 200 loss: 0.010257153540857817\n",
      "step 300 loss: 0.0100948037549359\n",
      "step 400 loss: 0.010083894412889118\n",
      "step 500 loss: 0.010083161342973332\n",
      "step 600 loss: 0.010083112083219709\n",
      "step 700 loss: 0.010083108773135261\n",
      "step 800 loss: 0.010083108550709076\n",
      "step 900 loss: 0.01008310853576281\n",
      "final loss: 0.010083108534760455\n"
     ]
    }
   ],
   "source": [
    "for i in range(1000):\n",
    "    loss = mse(y, a * x + b)\n",
    "    a, b = optimize(x, y, a, b)\n",
    "    if i % 100 == 0:\n",
    "        print(f\"step {i} loss:\", loss)\n",
    "\n",
    "print(\"final loss:\", loss)"
   ]
  },
  {
   "cell_type": "code",
   "execution_count": 8,
   "metadata": {
    "tags": [
     "ex"
    ]
   },
   "outputs": [
    {
     "name": "stdout",
     "output_type": "stream",
     "text": [
      "Solution is correct!\n"
     ]
    }
   ],
   "source": [
    "assert 0.0 < loss < 2.0\n",
    "\n",
    "print(\"Solution is correct!\")"
   ]
  },
  {
   "cell_type": "code",
   "execution_count": 9,
   "metadata": {
    "colab": {
     "base_uri": "https://localhost:8080/",
     "height": 282
    },
    "editable": true,
    "id": "xOgRcPC1LAsq",
    "outputId": "85b0b3e4-aa0d-467a-d8ff-5f01be17b243",
    "slideshow": {
     "slide_type": ""
    },
    "tags": [
     "ex"
    ]
   },
   "outputs": [
    {
     "data": {
      "text/plain": [
       "[<matplotlib.lines.Line2D at 0x206f6acff70>]"
      ]
     },
     "execution_count": 9,
     "metadata": {},
     "output_type": "execute_result"
    },
    {
     "data": {
      "image/png": "[encoded data removed]",
      "text/plain": [
       "<Figure size 640x480 with 1 Axes>"
      ]
     },
     "metadata": {},
     "output_type": "display_data"
    }
   ],
   "source": [
    "plt.scatter(x, y)\n",
    "plt.plot(x, a * x + b, color=\"g\", linewidth=4)"
   ]
  },
  {
   "cell_type": "markdown",
   "metadata": {
    "id": "vOr2fWYpLAsq"
   },
   "source": [
    "Udało ci się wytrenować swoją pierwszą sieć neuronową. Czemu? Otóż neuron to po prostu wektor parametrów, a zwykle robimy iloczyn skalarny tych parametrów z wejściem. Dodatkowo na wyjście nakłada się **funkcję aktywacji (activation function)**, która przekształca wyjście. Tutaj takiej nie było, a właściwie była to po prostu funkcja identyczności.\n",
    "\n",
    "Oczywiście w praktyce korzystamy z odpowiedniego frameworka, który w szczególności:\n",
    "- ułatwia budowanie sieci, np. ma gotowe klasy dla warstw neuronów\n",
    "- ma zaimplementowane funkcje kosztu oraz ich pochodne\n",
    "- sam różniczkuje ze względu na odpowiednie parametry i aktualizuje je odpowiednio podczas treningu\n"
   ]
  },
  {
   "cell_type": "markdown",
   "metadata": {
    "id": "NJBYJabuLAsr"
   },
   "source": [
    "## Wprowadzenie do PyTorcha"
   ]
  },
  {
   "cell_type": "markdown",
   "metadata": {
    "id": "EB-99XqhLAsr"
   },
   "source": [
    "PyTorch to w gruncie rzeczy narzędzie do algebry liniowej z [automatycznym różniczkowaniem](https://pytorch.org/tutorials/beginner/blitz/autograd_tutorial.html), z możliwością przyspieszenia obliczeń z pomocą GPU. Na tych fundamentach zbudowany jest pełny framework do uczenia głębokiego. Można spotkać się ze stwierdzeniem, że PyTorch to NumPy + GPU + opcjonalne różniczkowanie, co jest całkiem celne. Plus można łatwo debugować printem :)\n",
    "\n",
    "PyTorch używa dynamicznego grafu obliczeń, który sami definiujemy w kodzie. Takie podejście jest bardzo wygodne, elastyczne i pozwala na łatwe eksperymentowanie. Odbywa się to potencjalnie kosztem wydajności, ponieważ pozostawia kwestię optymalizacji programiście. Więcej na ten temat dla zainteresowanych na końcu laboratorium.\n",
    "\n",
    "Samo API PyTorcha bardzo przypomina NumPy'a, a podstawowym obiektem jest `Tensor`, klasa reprezentująca tensory dowolnego wymiaru. Dodatkowo niektóre tensory będą miały automatycznie obliczony gradient. Co ważne, tensor jest na pewnym urządzeniu, CPU lub GPU, a przenosić między nimi trzeba explicite.\n",
    "\n",
    "Najważniejsze moduły:\n",
    "- `torch` - podstawowe klasy oraz funkcje, np. `Tensor`, `from_numpy()`\n",
    "- `torch.nn` - klasy związane z sieciami neuronowymi, np. `Linear`, `Sigmoid`\n",
    "- `torch.optim` - wszystko związane z optymalizacją, głównie spadkiem wzdłuż gradientu"
   ]
  },
  {
   "cell_type": "code",
   "execution_count": 10,
   "metadata": {
    "id": "FwuIt8S-LAss"
   },
   "outputs": [],
   "source": [
    "import torch\n",
    "import torch.nn as nn\n",
    "import torch.optim as optim"
   ]
  },
  {
   "cell_type": "code",
   "execution_count": 11,
   "metadata": {
    "colab": {
     "base_uri": "https://localhost:8080/"
    },
    "editable": true,
    "id": "bfCiUFXULAss",
    "outputId": "83f6231d-ecc4-461a-b758-fdc4bc2a88a4",
    "slideshow": {
     "slide_type": ""
    },
    "tags": []
   },
   "outputs": [
    {
     "name": "stdout",
     "output_type": "stream",
     "text": [
      "tensor([1.5103, 1.0036, 1.4938, 1.4099, 1.2452, 1.5371, 1.5464, 1.4565, 1.1471,\n",
      "        1.4845])\n",
      "tensor([0.5103, 0.0036, 0.4938, 0.4099, 0.2452, 0.5371, 0.5464, 0.4565, 0.1471,\n",
      "        0.4845])\n",
      "tensor(3.8343)\n"
     ]
    }
   ],
   "source": [
    "ones = torch.ones(10)\n",
    "noise = torch.ones(10) * torch.rand(10)\n",
    "\n",
    "# elementwise sum\n",
    "print(ones + noise)\n",
    "\n",
    "# elementwise multiplication\n",
    "print(ones * noise)\n",
    "\n",
    "# dot product\n",
    "print(ones @ noise)"
   ]
  },
  {
   "cell_type": "code",
   "execution_count": 12,
   "metadata": {
    "editable": true,
    "slideshow": {
     "slide_type": ""
    },
    "tags": []
   },
   "outputs": [
    {
     "data": {
      "text/plain": [
       "numpy.ndarray"
      ]
     },
     "execution_count": 12,
     "metadata": {},
     "output_type": "execute_result"
    }
   ],
   "source": [
    "type(x)"
   ]
  },
  {
   "cell_type": "code",
   "execution_count": 13,
   "metadata": {
    "editable": true,
    "id": "ynNd_kD0LAst",
    "slideshow": {
     "slide_type": ""
    },
    "tags": []
   },
   "outputs": [],
   "source": [
    "# beware - shares memory with original Numpy array!\n",
    "# very fast, but modifications are visible to original variable\n",
    "x = torch.from_numpy(x)\n",
    "y = torch.from_numpy(y)"
   ]
  },
  {
   "cell_type": "markdown",
   "metadata": {
    "editable": true,
    "id": "W9kkxczELAsu",
    "slideshow": {
     "slide_type": ""
    },
    "tags": []
   },
   "source": [
    "Jeżeli dla stworzonych przez nas tensorów chcemy śledzić operacje i obliczać gradient, to musimy oznaczyć `requires_grad=True`."
   ]
  },
  {
   "cell_type": "code",
   "execution_count": 14,
   "metadata": {
    "colab": {
     "base_uri": "https://localhost:8080/"
    },
    "editable": true,
    "id": "8HtZL-KfLAsu",
    "outputId": "47c6d930-5678-452a-95bc-227935138b40",
    "slideshow": {
     "slide_type": ""
    },
    "tags": []
   },
   "outputs": [
    {
     "data": {
      "text/plain": [
       "(tensor([0.5983], requires_grad=True), tensor([0.4153], requires_grad=True))"
      ]
     },
     "execution_count": 14,
     "metadata": {},
     "output_type": "execute_result"
    }
   ],
   "source": [
    "a = torch.rand(1, requires_grad=True)\n",
    "b = torch.rand(1, requires_grad=True)\n",
    "a, b"
   ]
  },
  {
   "cell_type": "markdown",
   "metadata": {
    "editable": true,
    "id": "Nl1guWZ_LAsv",
    "slideshow": {
     "slide_type": ""
    },
    "tags": []
   },
   "source": [
    "PyTorch zawiera większość powszechnie używanych funkcji kosztu, np. MSE. Mogą być one używane na 2 sposoby, z czego pierwszy jest popularniejszy:\n",
    "- jako klasy wywoływalne z modułu `torch.nn`\n",
    "- jako funkcje z modułu `torch.nn.functional`\n",
    "\n",
    "Po wykonaniu poniższego kodu widzimy, że zwraca on nam tensor z dodatkowymi atrybutami. Co ważne, jest to skalar (0-wymiarowy tensor), bo potrzebujemy zwyczajnej liczby do obliczania propagacji wstecznych (pochodnych cząstkowych)."
   ]
  },
  {
   "cell_type": "code",
   "execution_count": 15,
   "metadata": {
    "editable": true,
    "slideshow": {
     "slide_type": ""
    },
    "tags": []
   },
   "outputs": [
    {
     "data": {
      "text/plain": [
       "tensor(0.0653, dtype=torch.float64, grad_fn=<MseLossBackward0>)"
      ]
     },
     "execution_count": 15,
     "metadata": {},
     "output_type": "execute_result"
    }
   ],
   "source": [
    "mse = nn.MSELoss()\n",
    "mse(y, a * x + b)"
   ]
  },
  {
   "cell_type": "markdown",
   "metadata": {
    "editable": true,
    "id": "vS35r49nLAsw",
    "slideshow": {
     "slide_type": ""
    },
    "tags": []
   },
   "source": [
    "Atrybutu `grad_fn` nie używamy wprost, bo korzysta z niego w środku PyTorch, ale widać, że tensor jest \"świadomy\", że liczy się na nim pochodną. Możemy natomiast skorzystać z atrybutu `grad`, który zawiera faktyczny gradient. Zanim go jednak dostaniemy, to trzeba powiedzieć PyTorchowi, żeby policzył gradient. Służy do tego metoda `.backward()`, wywoływana na obiekcie zwracanym przez funkcję kosztu."
   ]
  },
  {
   "cell_type": "code",
   "execution_count": 16,
   "metadata": {
    "editable": true,
    "id": "Qb7l6Xg1LAsx",
    "slideshow": {
     "slide_type": ""
    },
    "tags": []
   },
   "outputs": [],
   "source": [
    "loss = mse(y, a * x + b)\n",
    "loss.backward()"
   ]
  },
  {
   "cell_type": "code",
   "execution_count": 17,
   "metadata": {
    "colab": {
     "base_uri": "https://localhost:8080/"
    },
    "editable": true,
    "id": "6LfQbLVoLAsx",
    "outputId": "d5b87fb7-d284-423c-f467-b677384b2f67",
    "slideshow": {
     "slide_type": ""
    },
    "tags": []
   },
   "outputs": [
    {
     "name": "stdout",
     "output_type": "stream",
     "text": [
      "tensor([0.1452])\n"
     ]
    }
   ],
   "source": [
    "print(a.grad)"
   ]
  },
  {
   "cell_type": "markdown",
   "metadata": {
    "editable": true,
    "id": "Kdf1iweELAsy",
    "slideshow": {
     "slide_type": ""
    },
    "tags": []
   },
   "source": [
    "Ważne jest, że PyTorch nie liczy za każdym razem nowego gradientu, tylko dodaje go do istniejącego, czyli go akumuluje. Jest to przydatne w niektórych sieciach neuronowych, ale zazwyczaj trzeba go zerować. Jeżeli tego nie zrobimy, to dostaniemy coraz większe gradienty.\n",
    "\n",
    "Do zerowania służy metoda `.zero_()`. W PyTorchu wszystkie metody modyfikujące tensor w miejscu mają `_` na końcu nazwy. Jest to dość niskopoziomowa operacja dla pojedynczych tensorów - zobaczymy za chwilę, jak to robić łatwiej dla całej sieci."
   ]
  },
  {
   "cell_type": "code",
   "execution_count": 18,
   "metadata": {
    "colab": {
     "base_uri": "https://localhost:8080/"
    },
    "editable": true,
    "id": "DiCQZKJsLAsy",
    "outputId": "2f779622-480d-43fc-b9d0-a0e36ff4b28b",
    "slideshow": {
     "slide_type": ""
    },
    "tags": []
   },
   "outputs": [
    {
     "data": {
      "text/plain": [
       "tensor([0.2905])"
      ]
     },
     "execution_count": 18,
     "metadata": {},
     "output_type": "execute_result"
    }
   ],
   "source": [
    "loss = mse(y, a * x + b)\n",
    "loss.backward()\n",
    "a.grad"
   ]
  },
  {
   "cell_type": "markdown",
   "metadata": {
    "editable": true,
    "id": "xNC3Ag8uLAsz",
    "slideshow": {
     "slide_type": ""
    },
    "tags": []
   },
   "source": [
    "Zobaczmy, jak wyglądałaby regresja liniowa, ale napisana w PyTorchu. Jest to oczywiście bardzo niskopoziomowa implementacja - za chwilę zobaczymy, jak to wygląda w praktyce."
   ]
  },
  {
   "cell_type": "code",
   "execution_count": 19,
   "metadata": {
    "colab": {
     "base_uri": "https://localhost:8080/"
    },
    "editable": true,
    "id": "AKnxyeboLAsz",
    "outputId": "2f939474-901a-4773-9704-686a40ae6e8e",
    "slideshow": {
     "slide_type": ""
    },
    "tags": []
   },
   "outputs": [
    {
     "name": "stdout",
     "output_type": "stream",
     "text": [
      "step 0 loss: tensor(0.0653, dtype=torch.float64, grad_fn=<MseLossBackward0>)\n",
      "step 100 loss: tensor(0.0112, dtype=torch.float64, grad_fn=<MseLossBackward0>)\n",
      "step 200 loss: tensor(0.0102, dtype=torch.float64, grad_fn=<MseLossBackward0>)\n",
      "step 300 loss: tensor(0.0101, dtype=torch.float64, grad_fn=<MseLossBackward0>)\n",
      "step 400 loss: tensor(0.0101, dtype=torch.float64, grad_fn=<MseLossBackward0>)\n",
      "step 500 loss: tensor(0.0101, dtype=torch.float64, grad_fn=<MseLossBackward0>)\n",
      "step 600 loss: tensor(0.0101, dtype=torch.float64, grad_fn=<MseLossBackward0>)\n",
      "step 700 loss: tensor(0.0101, dtype=torch.float64, grad_fn=<MseLossBackward0>)\n",
      "step 800 loss: tensor(0.0101, dtype=torch.float64, grad_fn=<MseLossBackward0>)\n",
      "step 900 loss: tensor(0.0101, dtype=torch.float64, grad_fn=<MseLossBackward0>)\n",
      "final loss: tensor(0.0101, dtype=torch.float64, grad_fn=<MseLossBackward0>)\n"
     ]
    }
   ],
   "source": [
    "learning_rate = 0.1\n",
    "\n",
    "for i in range(1000):\n",
    "    loss = mse(y, a * x + b)\n",
    "\n",
    "    # compute gradients\n",
    "    loss.backward()\n",
    "\n",
    "    # update parameters\n",
    "    a.data -= learning_rate * a.grad\n",
    "    b.data -= learning_rate * b.grad\n",
    "\n",
    "    # zero gradients\n",
    "    a.grad.data.zero_()\n",
    "    b.grad.data.zero_()\n",
    "\n",
    "    if i % 100 == 0:\n",
    "        print(f\"step {i} loss:\", loss)\n",
    "\n",
    "print(\"final loss:\", loss)"
   ]
  },
  {
   "cell_type": "markdown",
   "metadata": {
    "editable": true,
    "id": "2DXNVhshmmI-",
    "slideshow": {
     "slide_type": ""
    },
    "tags": []
   },
   "source": [
    "Trening modeli w PyTorchu jest dosyć schematyczny i najczęściej rozdziela się go na kilka bloków, dających razem **pętlę uczącą (training loop)**, powtarzaną w każdej epoce:\n",
    "1. Forward pass - obliczenie predykcji sieci\n",
    "2. Loss calculation\n",
    "3. Backpropagation - obliczenie pochodnych oraz zerowanie gradientów\n",
    "4. Optimization - aktualizacja wag\n",
    "5. Other - ewaluacja na zbiorze walidacyjnym, logging etc."
   ]
  },
  {
   "cell_type": "code",
   "execution_count": 20,
   "metadata": {
    "colab": {
     "base_uri": "https://localhost:8080/"
    },
    "editable": true,
    "id": "2etpw7TNLAs0",
    "outputId": "8ac35c12-6c70-41ec-bf57-414456fc3c96",
    "scrolled": true,
    "slideshow": {
     "slide_type": ""
    },
    "tags": []
   },
   "outputs": [
    {
     "name": "stdout",
     "output_type": "stream",
     "text": [
      "step 0 loss: 0.1677\n",
      "step 100 loss: 0.0137\n",
      "step 200 loss: 0.0103\n",
      "step 300 loss: 0.0101\n",
      "step 400 loss: 0.0101\n",
      "step 500 loss: 0.0101\n",
      "step 600 loss: 0.0101\n",
      "step 700 loss: 0.0101\n",
      "step 800 loss: 0.0101\n",
      "step 900 loss: 0.0101\n",
      "final loss: tensor(0.0101, dtype=torch.float64, grad_fn=<MseLossBackward0>)\n"
     ]
    }
   ],
   "source": [
    "# initialization\n",
    "learning_rate = 0.1\n",
    "a = torch.rand(1, requires_grad=True)\n",
    "b = torch.rand(1, requires_grad=True)\n",
    "optimizer = torch.optim.SGD([a, b], lr=learning_rate)\n",
    "best_loss = float(\"inf\")\n",
    "\n",
    "# training loop in each epoch\n",
    "for i in range(1000):\n",
    "    # forward pass\n",
    "    y_hat = a * x + b\n",
    "\n",
    "    # loss calculation\n",
    "    loss = mse(y, y_hat)\n",
    "\n",
    "    # backpropagation\n",
    "    loss.backward()\n",
    "\n",
    "    # optimization\n",
    "    optimizer.step()\n",
    "    optimizer.zero_grad()  # zeroes all gradients - very convenient!\n",
    "\n",
    "    if i % 100 == 0:\n",
    "        if loss < best_loss:\n",
    "            best_model = (a.clone(), b.clone())\n",
    "            best_loss = loss\n",
    "        print(f\"step {i} loss: {loss.item():.4f}\")\n",
    "\n",
    "print(\"final loss:\", loss)"
   ]
  },
  {
   "cell_type": "markdown",
   "metadata": {
    "editable": true,
    "slideshow": {
     "slide_type": ""
    },
    "tags": []
   },
   "source": [
    "Przejdziemy teraz do budowy sieci neuronowej do klasyfikacji. Typowo implementuje się ją po prostu jako sieć dla regresji, ale zwracającą tyle wyników, ile mamy klas, a potem aplikuje się na tym funkcję sigmoidalną (2 klasy) lub softmax (>2 klasy). W przypadku klasyfikacji binarnej zwraca się czasem tylko 1 wartość, przepuszczaną przez sigmoidę - wtedy wyjście z sieci to prawdopodobieństwo klasy pozytywnej.\n",
    "\n",
    "Funkcją kosztu zwykle jest **entropia krzyżowa (cross-entropy)**, stosowana też w klasycznej regresji logistycznej. Co ważne, sieci neuronowe, nawet tak proste, uczą się szybciej i stabilniej, gdy dane na wejściu (a przynajmniej zmienne numeryczne) są **ustandaryzowane (standardized)**. Operacja ta polega na odjęciu średniej i podzieleniu przez odchylenie standardowe (tzw. *Z-score transformation*).\n",
    "\n",
    "**Uwaga - PyTorch wymaga tensora klas będącego liczbami zmiennoprzecinkowymi!**"
   ]
  },
  {
   "cell_type": "markdown",
   "metadata": {
    "editable": true,
    "slideshow": {
     "slide_type": ""
    },
    "tags": []
   },
   "source": [
    "## Zbiór danych"
   ]
  },
  {
   "cell_type": "markdown",
   "metadata": {
    "editable": true,
    "slideshow": {
     "slide_type": ""
    },
    "tags": []
   },
   "source": [
    "Na tym laboratorium wykorzystamy zbiór [Adult Census](https://archive.ics.uci.edu/ml/datasets/adult). Dotyczy on przewidywania na podstawie danych demograficznych, czy dany człowiek zarabia powyżej 50 tysięcy dolarów rocznie, czy też mniej. Jest to cenna informacja np. przy planowaniu kampanii marketingowych. Jak możesz się domyślić, zbiór pochodzi z czasów, kiedy inflacja była dużo niższa :)\n",
    "\n",
    "Poniżej znajduje się kod do ściągnięcia i preprocessingu zbioru. Nie musisz go dokładnie analizować."
   ]
  },
  {
   "cell_type": "code",
   "execution_count": 21,
   "metadata": {
    "colab": {
     "base_uri": "https://localhost:8080/"
    },
    "editable": true,
    "id": "4DNsaZAnLAs0",
    "outputId": "70822008-530d-4173-deb9-8149a9fe5b41",
    "scrolled": true,
    "slideshow": {
     "slide_type": ""
    },
    "tags": []
   },
   "outputs": [],
   "source": [
    "# !wget https://archive.ics.uci.edu/ml/machine-learning-databases/adult/adult.data"
   ]
  },
  {
   "cell_type": "code",
   "execution_count": 22,
   "metadata": {
    "editable": true,
    "slideshow": {
     "slide_type": ""
    },
    "tags": []
   },
   "outputs": [
    {
     "data": {
      "text/plain": [
       "array([' <=50K', ' >50K'], dtype=object)"
      ]
     },
     "execution_count": 22,
     "metadata": {},
     "output_type": "execute_result"
    }
   ],
   "source": [
    "import pandas as pd\n",
    "\n",
    "columns = [\n",
    "    \"age\",\n",
    "    \"workclass\",\n",
    "    \"fnlwgt\",\n",
    "    \"education\",\n",
    "    \"education-num\",\n",
    "    \"marital-status\",\n",
    "    \"occupation\",\n",
    "    \"relationship\",\n",
    "    \"race\",\n",
    "    \"sex\",\n",
    "    \"capital-gain\",\n",
    "    \"capital-loss\",\n",
    "    \"hours-per-week\",\n",
    "    \"native-country\",\n",
    "    \"wage\"\n",
    "]\n",
    "\n",
    "\"\"\"\n",
    "age: continuous.\n",
    "workclass: Private, Self-emp-not-inc, Self-emp-inc, Federal-gov, Local-gov, State-gov, Without-pay, Never-worked.\n",
    "fnlwgt: continuous.\n",
    "education: Bachelors, Some-college, 11th, HS-grad, Prof-school, Assoc-acdm, Assoc-voc, 9th, 7th-8th, 12th, Masters, 1st-4th, 10th, Doctorate, 5th-6th, Preschool.\n",
    "education-num: continuous.\n",
    "marital-status: Married-civ-spouse, Divorced, Never-married, Separated, Widowed, Married-spouse-absent, Married-AF-spouse.\n",
    "occupation: Tech-support, Craft-repair, Other-service, Sales, Exec-managerial, Prof-specialty, Handlers-cleaners, Machine-op-inspct, Adm-clerical, Farming-fishing, Transport-moving, Priv-house-serv, Protective-serv, Armed-Forces.\n",
    "relationship: Wife, Own-child, Husband, Not-in-family, Other-relative, Unmarried.\n",
    "race: White, Asian-Pac-Islander, Amer-Indian-Eskimo, Other, Black.\n",
    "sex: Female, Male.\n",
    "capital-gain: continuous.\n",
    "capital-loss: continuous.\n",
    "hours-per-week: continuous.\n",
    "native-country: United-States, Cambodia, England, Puerto-Rico, Canada, Germany, Outlying-US(Guam-USVI-etc), India, Japan, Greece, South, China, Cuba, Iran, Honduras, Philippines, Italy, Poland, Jamaica, Vietnam, Mexico, Portugal, Ireland, France, Dominican-Republic, Laos, Ecuador, Taiwan, Haiti, Columbia, Hungary, Guatemala, Nicaragua, Scotland, Thailand, Yugoslavia, El-Salvador, Trinadad&Tobago, Peru, Hong, Holand-Netherlands.\n",
    "\"\"\"\n",
    "\n",
    "df = pd.read_csv(\"adult.data\", header=None, names=columns)\n",
    "df.wage.unique()"
   ]
  },
  {
   "cell_type": "code",
   "execution_count": 23,
   "metadata": {
    "editable": true,
    "slideshow": {
     "slide_type": ""
    },
    "tags": []
   },
   "outputs": [],
   "source": [
    "# attribution: https://www.kaggle.com/code/royshih23/topic7-classification-in-python\n",
    "df['education'] = df['education'].replace('Preschool', 'dropout')\n",
    "df['education'] = df['education'].replace('10th', 'dropout')\n",
    "df['education'] = df['education'].replace('11th', 'dropout')\n",
    "df['education'] = df['education'].replace('12th', 'dropout')\n",
    "df['education'] = df['education'].replace('1st-4th', 'dropout')\n",
    "df['education'] = df['education'].replace('5th-6th', 'dropout')\n",
    "df['education'] = df['education'].replace('7th-8th', 'dropout')\n",
    "df['education'] = df['education'].replace('9th', 'dropout')\n",
    "df['education'] = df['education'].replace('HS-Grad', 'HighGrad')\n",
    "df['education'] = df['education'].replace('HS-grad', 'HighGrad')\n",
    "df['education'] = df['education'].replace('Some-college', 'CommunityCollege')\n",
    "df['education'] = df['education'].replace('Assoc-acdm', 'CommunityCollege')\n",
    "df['education'] = df['education'].replace('Assoc-voc', 'CommunityCollege')\n",
    "df['education'] = df['education'].replace('Bachelors', 'Bachelors')\n",
    "df['education'] = df['education'].replace('Masters', 'Masters')\n",
    "df['education'] = df['education'].replace('Prof-school', 'Masters')\n",
    "df['education'] = df['education'].replace('Doctorate', 'Doctorate')\n",
    "\n",
    "df['marital-status'] = df['marital-status'].replace('Never-married', 'NotMarried')\n",
    "df['marital-status'] = df['marital-status'].replace(['Married-AF-spouse'], 'Married')\n",
    "df['marital-status'] = df['marital-status'].replace(['Married-civ-spouse'], 'Married')\n",
    "df['marital-status'] = df['marital-status'].replace(['Married-spouse-absent'], 'NotMarried')\n",
    "df['marital-status'] = df['marital-status'].replace(['Separated'], 'Separated')\n",
    "df['marital-status'] = df['marital-status'].replace(['Divorced'], 'Separated')\n",
    "df['marital-status'] = df['marital-status'].replace(['Widowed'], 'Widowed')"
   ]
  },
  {
   "cell_type": "code",
   "execution_count": 24,
   "metadata": {
    "colab": {
     "base_uri": "https://localhost:8080/"
    },
    "editable": true,
    "id": "LiOxs_6mLAs1",
    "outputId": "c95418cf-2632-41d0-de0a-9caf109de113",
    "slideshow": {
     "slide_type": ""
    },
    "tags": []
   },
   "outputs": [
    {
     "data": {
      "text/plain": [
       "((20838, 108), (20838,))"
      ]
     },
     "execution_count": 24,
     "metadata": {},
     "output_type": "execute_result"
    }
   ],
   "source": [
    "from sklearn.model_selection import train_test_split\n",
    "from sklearn.preprocessing import MinMaxScaler, OneHotEncoder, StandardScaler\n",
    "\n",
    "X = df.copy()\n",
    "y = (X.pop(\"wage\") == ' >50K').astype(int).values\n",
    "\n",
    "train_valid_size = 0.2\n",
    "\n",
    "X_train, X_test, y_train, y_test = train_test_split(\n",
    "    X, y, \n",
    "    test_size=train_valid_size, \n",
    "    random_state=0, \n",
    "    shuffle=True, \n",
    "    stratify=y\n",
    ")\n",
    "\n",
    "X_train, X_valid, y_train, y_valid = train_test_split(\n",
    "    X_train, y_train, \n",
    "    test_size=train_valid_size, \n",
    "    random_state=0, \n",
    "    shuffle=True, \n",
    "    stratify=y_train\n",
    ")\n",
    "\n",
    "continuous_cols = ['age', 'fnlwgt', 'education-num', 'capital-gain', 'capital-loss', 'hours-per-week']\n",
    "continuous_X_train = X_train[continuous_cols]\n",
    "categorical_X_train = X_train.loc[:, ~X_train.columns.isin(continuous_cols)]\n",
    "\n",
    "continuous_X_valid = X_valid[continuous_cols]\n",
    "categorical_X_valid = X_valid.loc[:, ~X_valid.columns.isin(continuous_cols)]\n",
    "\n",
    "continuous_X_test = X_test[continuous_cols]\n",
    "categorical_X_test = X_test.loc[:, ~X_test.columns.isin(continuous_cols)]\n",
    "\n",
    "categorical_encoder = OneHotEncoder(sparse_output=False, handle_unknown='ignore')\n",
    "continuous_scaler = StandardScaler() #MinMaxScaler(feature_range=(-1, 1))\n",
    "\n",
    "categorical_encoder.fit(categorical_X_train)\n",
    "continuous_scaler.fit(continuous_X_train)\n",
    "\n",
    "continuous_X_train = continuous_scaler.transform(continuous_X_train)\n",
    "continuous_X_valid = continuous_scaler.transform(continuous_X_valid)\n",
    "continuous_X_test = continuous_scaler.transform(continuous_X_test)\n",
    "\n",
    "categorical_X_train = categorical_encoder.transform(categorical_X_train)\n",
    "categorical_X_valid = categorical_encoder.transform(categorical_X_valid)\n",
    "categorical_X_test = categorical_encoder.transform(categorical_X_test)\n",
    "\n",
    "X_train = np.concatenate([continuous_X_train, categorical_X_train], axis=1)\n",
    "X_valid = np.concatenate([continuous_X_valid, categorical_X_valid], axis=1)\n",
    "X_test = np.concatenate([continuous_X_test, categorical_X_test], axis=1)\n",
    "\n",
    "X_train.shape, y_train.shape"
   ]
  },
  {
   "cell_type": "markdown",
   "metadata": {
    "editable": true,
    "slideshow": {
     "slide_type": ""
    },
    "tags": []
   },
   "source": [
    "Uwaga co do typów - w PyTorchu wszystko w sieci neuronowej musi być typu `float32`. W szczególności trzeba uważać na konwersje z NumPy'a, który używa domyślnie typu `float64`. Może ci się przydać metoda `.float()`.\n",
    "\n",
    "Uwaga co do kształtów wyjścia - wejścia do `nn.BCELoss` muszą być tego samego kształtu. Może ci się przydać metoda `.squeeze()` lub `.unsqueeze()`."
   ]
  },
  {
   "cell_type": "code",
   "execution_count": 25,
   "metadata": {
    "id": "qfRA3xEoLAs1"
   },
   "outputs": [],
   "source": [
    "X_train = torch.from_numpy(X_train).float()\n",
    "y_train = torch.from_numpy(y_train).float().unsqueeze(-1)\n",
    "\n",
    "X_valid = torch.from_numpy(X_valid).float()\n",
    "y_valid = torch.from_numpy(y_valid).float().unsqueeze(-1)\n",
    "\n",
    "X_test = torch.from_numpy(X_test).float()\n",
    "y_test = torch.from_numpy(y_test).float().unsqueeze(-1)"
   ]
  },
  {
   "cell_type": "markdown",
   "metadata": {},
   "source": [
    "Podobnie jak w laboratorium 2, mamy tu do czynienia z klasyfikacją niezbalansowaną:"
   ]
  },
  {
   "cell_type": "code",
   "execution_count": 26,
   "metadata": {},
   "outputs": [
    {
     "data": {
      "image/png": "[encoded data removed]",
      "text/plain": [
       "<Figure size 640x480 with 1 Axes>"
      ]
     },
     "metadata": {},
     "output_type": "display_data"
    }
   ],
   "source": [
    "import matplotlib.pyplot as plt\n",
    "\n",
    "y_pos_perc = 100 * y_train.sum().item() / len(y_train)\n",
    "y_neg_perc = 100 - y_pos_perc\n",
    "\n",
    "plt.title(\"Class percentages\")\n",
    "plt.bar([\"<50k\", \">=50k\"], [y_neg_perc, y_pos_perc])\n",
    "plt.show()"
   ]
  },
  {
   "cell_type": "markdown",
   "metadata": {},
   "source": [
    "W związku z powyższym będziemy używać odpowiednich metryk, czyli AUROC, precyzji i czułości."
   ]
  },
  {
   "cell_type": "markdown",
   "metadata": {
    "id": "XLexWff-LAs0",
    "tags": [
     "ex"
    ]
   },
   "source": [
    "### Zadanie 3 (1.0 punkt)\n",
    "\n",
    "Zaimplementuj regresję logistyczną dla tego zbioru danych, używając PyTorcha. Dane wejściowe zostały dla ciebie przygotowane w komórkach powyżej.\n",
    "\n",
    "Sama sieć składa się z 2 elementów:\n",
    "- warstwa liniowa `nn.Linear`, przekształcająca wektor wejściowy na 1 wyjście - logit\n",
    "- aktywacja sigmoidalna `nn.Sigmoid`, przekształcająca logit na prawdopodobieństwo klasy pozytywnej\n",
    "\n",
    "Użyj binarnej entropii krzyżowej `nn.BCELoss` jako funkcji kosztu. Użyj optymalizatora SGD ze stałą uczącą `1e-3`. Trenuj przez 3000 epok. Pamiętaj, aby przekazać do optymalizatora `torch.optim.SGD` parametry sieci (metoda `.parameters()`). Dopisz logowanie kosztu raz na 100 epok."
   ]
  },
  {
   "cell_type": "code",
   "execution_count": 27,
   "metadata": {
    "colab": {
     "base_uri": "https://localhost:8080/"
    },
    "id": "NbABKz5-LAs2",
    "outputId": "086dc0f3-0184-4072-9fd3-275b60dee2e4",
    "scrolled": true,
    "tags": [
     "ex"
    ]
   },
   "outputs": [
    {
     "name": "stdout",
     "output_type": "stream",
     "text": [
      "Epoch 0 train loss: 0.6892\n",
      "Epoch 100 train loss: 0.6553\n",
      "Epoch 200 train loss: 0.6272\n",
      "Epoch 300 train loss: 0.6037\n",
      "Epoch 400 train loss: 0.5840\n",
      "Epoch 500 train loss: 0.5672\n",
      "Epoch 600 train loss: 0.5529\n",
      "Epoch 700 train loss: 0.5406\n",
      "Epoch 800 train loss: 0.5298\n",
      "Epoch 900 train loss: 0.5203\n",
      "Epoch 1000 train loss: 0.5119\n",
      "Epoch 1100 train loss: 0.5044\n",
      "Epoch 1200 train loss: 0.4976\n",
      "Epoch 1300 train loss: 0.4915\n",
      "Epoch 1400 train loss: 0.4859\n",
      "Epoch 1500 train loss: 0.4808\n",
      "Epoch 1600 train loss: 0.4760\n",
      "Epoch 1700 train loss: 0.4717\n",
      "Epoch 1800 train loss: 0.4676\n",
      "Epoch 1900 train loss: 0.4638\n",
      "Epoch 2000 train loss: 0.4602\n",
      "Epoch 2100 train loss: 0.4568\n",
      "Epoch 2200 train loss: 0.4536\n",
      "Epoch 2300 train loss: 0.4506\n",
      "Epoch 2400 train loss: 0.4478\n",
      "Epoch 2500 train loss: 0.4451\n",
      "Epoch 2600 train loss: 0.4425\n",
      "Epoch 2700 train loss: 0.4401\n",
      "Epoch 2800 train loss: 0.4377\n",
      "Epoch 2900 train loss: 0.4355\n",
      "final loss: 0.4334\n"
     ]
    }
   ],
   "source": [
    "learning_rate = 1e-3\n",
    "\n",
    "model = nn.Linear(X_train.shape[1], 1)\n",
    "activation = nn.Sigmoid()\n",
    "optimizer = optim.SGD(model.parameters(), lr=learning_rate)\n",
    "loss_fn = nn.BCELoss()\n",
    "\n",
    "# implement me!\n",
    "# your_code\n",
    "epochs = 3000\n",
    "\n",
    "for i in range(epochs):\n",
    "    loss = loss_fn(activation(model(X_train)), y_train)\n",
    "    loss.backward()\n",
    "    optimizer.step()\n",
    "    optimizer.zero_grad()\n",
    "\n",
    "    if i % 100 == 0:\n",
    "        print(f\"Epoch {i} train loss: {loss.item():.4f}\")\n",
    "\n",
    "print(f\"final loss: {loss.item():.4f}\")"
   ]
  },
  {
   "cell_type": "markdown",
   "metadata": {
    "tags": [
     "ex"
    ]
   },
   "source": [
    "Teraz trzeba sprawdzić, jak poszło naszej sieci. W PyTorchu sieć pracuje zawsze w jednym z dwóch trybów: treningowym lub ewaluacyjnym (predykcyjnym). Ten drugi wyłącza niektóre mechanizmy, które są używane tylko podczas treningu, w szczególności regularyzację dropout. Do przełączania służą metody modelu `.train()` i `.eval()`.\n",
    "\n",
    "Dodatkowo, podczas liczenia predykcji dobrze jest wyłączyć liczenie gradientów, bo nie będą potrzebne, a oszczędza to czas i pamięć. Używa się do tego menadżera kontekstu `with torch.no_grad():`."
   ]
  },
  {
   "cell_type": "code",
   "execution_count": 28,
   "metadata": {
    "colab": {
     "base_uri": "https://localhost:8080/"
    },
    "id": "zH37zDX4LAs2",
    "outputId": "b1f93309-6f04-4ffc-b0ca-08d0a32120a0",
    "scrolled": true,
    "tags": [
     "ex"
    ]
   },
   "outputs": [
    {
     "name": "stdout",
     "output_type": "stream",
     "text": [
      "AUROC: 85.77%\n"
     ]
    }
   ],
   "source": [
    "from sklearn.metrics import precision_recall_curve, precision_recall_fscore_support, roc_auc_score\n",
    "\n",
    "model.eval()\n",
    "with torch.no_grad():\n",
    "    y_score = activation(model(X_test))\n",
    "\n",
    "auroc = roc_auc_score(y_test, y_score)\n",
    "print(f\"AUROC: {auroc:.2%}\")"
   ]
  },
  {
   "cell_type": "code",
   "execution_count": 29,
   "metadata": {
    "tags": [
     "ex"
    ]
   },
   "outputs": [
    {
     "name": "stdout",
     "output_type": "stream",
     "text": [
      "Solution is correct!\n"
     ]
    }
   ],
   "source": [
    "assert isinstance(model, nn.Linear)\n",
    "assert isinstance(activation, nn.Sigmoid)\n",
    "assert isinstance(optimizer, torch.optim.SGD)\n",
    "assert isinstance(loss_fn, torch.nn.BCELoss)\n",
    "\n",
    "assert model.out_features == 1\n",
    "assert optimizer.param_groups[0][\"lr\"] == 1e-3\n",
    "\n",
    "assert 0.0 < loss.item() < 0.5\n",
    "assert 0.8 < auroc < 0.9\n",
    "\n",
    "print(\"Solution is correct!\")"
   ]
  },
  {
   "cell_type": "markdown",
   "metadata": {},
   "source": [
    "Jest to całkiem dobry wynik, a może być jeszcze lepszy. Sprawdźmy dla pewności jeszcze inne metryki: precyzję, recall oraz F1-score. Dodatkowo narysujemy krzywą precision-recall, czyli jak zmieniają się te metryki w zależności od przyjętego progu (threshold) prawdopodobieństwa, powyżej którego przyjmujemy klasę pozytywną. Taką krzywą należy rysować na zbiorze walidacyjnym, bo później chcemy wykorzystać tę informację do doboru progu, a nie chcemy mieć wycieku danych testowych (data leakage).\n",
    "\n",
    "Poniżej zaimplementowano także funkcję `get_optimal_threshold()`, która sprawdza, dla którego progu uzyskujemy maksymalny F1-score i zwraca indeks oraz wartość optymalnego progu. Przyda ci się ona w dalszej części laboratorium."
   ]
  },
  {
   "cell_type": "code",
   "execution_count": 30,
   "metadata": {},
   "outputs": [],
   "source": [
    "from sklearn.metrics import PrecisionRecallDisplay\n",
    "\n",
    "def get_optimal_threshold(\n",
    "    precisions: np.array, \n",
    "    recalls: np.array, \n",
    "    thresholds: np.array\n",
    ") -> Tuple[int, float]:\n",
    "    \n",
    "    numerator = 2 * precisions * recalls\n",
    "    denominator = precisions + recalls\n",
    "    f1_scores = np.divide(numerator, denominator, out=np.zeros_like(numerator), where=denominator != 0)\n",
    "    \n",
    "    optimal_idx = np.argmax(f1_scores)\n",
    "    optimal_threshold = thresholds[optimal_idx]\n",
    "    \n",
    "    return optimal_idx, optimal_threshold\n",
    "\n",
    "def plot_precision_recall_curve(y_true, y_pred_score) -> None:\n",
    "    precisions, recalls, thresholds = precision_recall_curve(y_true, y_pred_score)\n",
    "    optimal_idx, optimal_threshold = get_optimal_threshold(precisions, recalls, thresholds)\n",
    "\n",
    "    disp = PrecisionRecallDisplay(precisions, recalls)\n",
    "    disp.plot()\n",
    "    plt.title(f\"Precision-recall curve (opt. thresh.: {optimal_threshold:.4f})\")\n",
    "    plt.axvline(recalls[optimal_idx], color=\"green\", linestyle=\"-.\")\n",
    "    plt.axhline(precisions[optimal_idx], color=\"green\", linestyle=\"-.\")\n",
    "    plt.show()"
   ]
  },
  {
   "cell_type": "code",
   "execution_count": 31,
   "metadata": {},
   "outputs": [
    {
     "data": {
      "image/png": "[encoded data removed]",
      "text/plain": [
       "<Figure size 640x480 with 1 Axes>"
      ]
     },
     "metadata": {},
     "output_type": "display_data"
    }
   ],
   "source": [
    "model.eval()\n",
    "with torch.no_grad():\n",
    "    y_pred_valid_score = activation(model(X_valid))\n",
    "\n",
    "plot_precision_recall_curve(y_valid, y_pred_valid_score)"
   ]
  },
  {
   "cell_type": "markdown",
   "metadata": {
    "id": "vfQPIUQ_LAs2"
   },
   "source": [
    "Jak widać, chociaż AUROC jest wysokie, to dla optymalnego F1-score recall nie jest zbyt wysoki, a precyzja jest już dość niska. Być może wynik uda się poprawić, używając modelu o większej pojemności - pełnej, głębokiej sieci neuronowej."
   ]
  },
  {
   "cell_type": "markdown",
   "metadata": {},
   "source": [
    "## Sieci neuronowe"
   ]
  },
  {
   "cell_type": "markdown",
   "metadata": {
    "id": "YP298w6Cq7T6"
   },
   "source": [
    "Wszystko zaczęło się od inspirowanych biologią [sztucznych neuronów](https://en.wikipedia.org/wiki/Artificial_neuron), których próbowano użyć do symulacji mózgu. Naukowcy szybko odeszli od tego podejścia (sam problem modelowania okazał się też znacznie trudniejszy, niż sądzono), zamiast tego używając neuronów jako jednostek reprezentujących dowolną funkcję parametryczną $f(x, \\Theta)$. Każdy neuron jest zatem bardzo elastyczny, bo jedyne wymagania to funkcja różniczkowalna, a mamy do tego wektor parametrów $\\Theta$.\n",
    "\n",
    "W praktyce najczęściej można spotkać się z kilkoma rodzinami sieci neuronowych:\n",
    "1. Perceptrony wielowarstwowe (*MultiLayer Perceptron*, MLP) - najbardziej podobne do powyższego opisu, niezbędne do klasyfikacji i regresji\n",
    "2. Konwolucyjne (*Convolutional Neural Networks*, CNNs) - do przetwarzania danych z zależnościami przestrzennymi, np. obrazów czy dźwięku\n",
    "3. Rekurencyjne (*Recurrent Neural Networks*, RNNs) - do przetwarzania danych z zależnościami sekwencyjnymi, np. szeregi czasowe oraz kiedyś do języka naturalnego\n",
    "4. Transformacyjne (*Transformers*), oparte o mechanizm atencji (*attention*) - do przetwarzania języka naturalnego (NLP), z którego wyparły RNNs, a coraz częściej także do wszelkich innych danych, np. obrazów, dźwięku\n",
    "5. Grafowe (*Graph Neural Networks*, GNNs) - do przetwarzania grafów\n",
    "\n",
    "Na tym laboratorium skupimy się na najprostszej architekturze, czyli MLP. Jest ona powszechnie łączona z wszelkimi innymi architekturami, bo pozwala dokonywać klasyfikacji i regresji. Przykładowo, klasyfikacja obrazów to zwykle CNN + MLP, klasyfikacja tekstów to transformer + MLP, a regresja na grafach to GNN + MLP.\n",
    "\n",
    "Dodatkowo, pomimo prostoty MLP są bardzo potężne - udowodniono, że perceptrony (ich powszechna nazwa) są [uniwersalnym aproksymatorem](https://www.sciencedirect.com/science/article/abs/pii/0893608089900208), będącym w stanie przybliżyć dowolną funkcję z odpowiednio małym błędem, zakładając wystarczającą wielkość warstw sieci. Szczególne ich wersje potrafią nawet [reprezentować drzewa decyzyjne](https://www.youtube.com/watch?v=_okxGdHM5b8).\n",
    "\n",
    "Dla zainteresowanych polecamy [doskonałą książkę \"Dive into Deep Learning\", z implementacjami w PyTorchu](https://d2l.ai/chapter_multilayer-perceptrons/index.html), [klasyczną książkę \"Deep Learning Book\"](https://www.deeplearningbook.org/contents/mlp.html) oraz [ten filmik](https://www.youtube.com/watch?v=BFHrIxKcLjA), jeśli zastanawiałeś/-aś się, czemu używamy Deep Learning, a nie na przykład Wide(?) Learning (aka. czemu staramy się budować głębokie sieci, a nie płytkie, za to szerokie)."
   ]
  },
  {
   "attachments": {
    "1_x-3NGQv0pRIab8xDT-f_Hg.png": {
     "image/png": "[encoded data removed]"
    }
   },
   "cell_type": "markdown",
   "metadata": {
    "id": "S_ZjoGBU5upj"
   },
   "source": [
    "### Sieci MLP\n",
    "\n",
    "Dla przypomnienia, na wejściu mamy punkty ze zbioru treningowego, czyli $d$-wymiarowe wektory. W klasyfikacji chcemy znaleźć granicę decyzyjną, czyli krzywą, która oddzieli od siebie klasy. W wejściowej przestrzeni może być to trudne, bo chmury punktów z poszczególnych klas mogą być ze sobą dość pomieszane. Pamiętajmy też, że regresja logistyczna jest klasyfikatorem liniowym, czyli w danej przestrzeni potrafi oddzielić punkty tylko linią prostą.\n",
    "\n",
    "Sieć MLP składa się z warstw. Każda z nich dokonuje nieliniowego przekształcenia przestrzeni (można o tym myśleć jak o składaniu przestrzeni jakąś prostą/łamaną), tak, aby w finalnej przestrzeni nasze punkty były możliwie liniowo separowalne. Wtedy ostatnia warstwa z sigmoidą będzie potrafiła je rozdzielić od siebie.\n",
    "\n",
    "![1_x-3NGQv0pRIab8xDT-f_Hg.png](attachment:1_x-3NGQv0pRIab8xDT-f_Hg.png)\n",
    "\n",
    "Poszczególne neurony składają się z iloczynu skalarnego wejść z wagami neuronu oraz nieliniowej funkcji aktywacji. W PyTorchu są to osobne obiekty - `nn.Linear` oraz np. `nn.Sigmoid`. Funkcja aktywacji przyjmuje wynik iloczynu skalarnego i przekształca go, aby sprawdzić, jak mocno reaguje neuron na dane wejście. Musi być nieliniowa z dwóch powodów. Po pierwsze, tylko nieliniowe przekształcenia są na tyle potężne, żeby umożliwić liniową separację danych w ostatniej warstwie. Po drugie, liniowe przekształcenia zwyczajnie nie działają. Aby zrozumieć czemu, trzeba zobaczyć, co matematycznie oznacza sieć MLP.\n",
    "\n",
    "![perceptron](https://www.saedsayad.com/images/Perceptron_bkp_1.png)\n",
    "\n",
    "Zapisane matematycznie MLP to:\n",
    "\n",
    "$\\large{\n",
    "h_1 = f_1(x) \\\\\n",
    "h_2 = f_2(h_1) \\\\\n",
    "h_3 = f_3(h_2) \\\\\n",
    "... \\\\\n",
    "h_n = f_n(h_{n-1})}\n",
    "$\n",
    "\n",
    "gdzie $x$ to wejście, $f_i$ to funkcja aktywacji $i$-tej warstwy, a $h_i$ to wyjście $i$-tej warstwy, nazywane **ukrytą reprezentacją (hidden representation)**, lub *latent representation*. Nazwa bierze się z tego, że w środku sieci wyciągamy cechy i wzorce w danych, które nie są widoczne na pierwszy rzut oka na wejściu.\n",
    "\n",
    "Załóżmy, że uczymy się na danych $x$ o jednym wymiarze (dla uproszczenia wzorów) oraz nie mamy funkcji aktywacji, czyli wykorzystujemy tak naprawdę aktywację liniową $f(x) = x$. Zobaczmy, jak będą wyglądać dane, przechodząc przez kolejne warstwy:\n",
    "\n",
    "$\\large{\n",
    "h_1 = f_1(xw_1) = xw_1 \\\\\n",
    "h_2 = f_2(h_1w_2) = xw_1w_2 \\\\\n",
    "... \\\\\n",
    "h_n = f_n(h_{n-1}w_n) = xw_1w_2...w_n}\n",
    "$\n",
    "\n",
    "gdzie $w_i$ to jest parametr $i$-tej warstwy sieci, $x$ to są dane (w naszym przypadku jedna liczba) wejściowe, a $h_i$ to wyjście $i$-tej warstwy.\n",
    "\n",
    "Jak widać, taka sieć o $n$ warstwach jest równoważna sieci o jednej warstwie z parametrem $w = w_1w_2...w_n$. Wynika to z tego, że złożenie funkcji liniowych jest także funkcją liniową - patrz notatki z algebry :)\n",
    "\n",
    "Jeżeli natomiast użyjemy nieliniowej funkcji aktywacji, często oznaczanej jako $\\sigma$, to wszystko będzie działać. Co ważne, ostatnia warstwa, dająca wyjście sieci, ma zwykle inną aktywację od warstw wewnątrz sieci, bo też ma inne zadanie - zwrócić wartość dla klasyfikacji lub regresji. Na wyjściu korzysta się z funkcji liniowej (regresja), sigmoidalnej (klasyfikacja binarna) lub softmax (klasyfikacja wieloklasowa).\n",
    "\n",
    "Wewnątrz sieci używano kiedyś sigmoidy oraz tangensa hiperbolicznego `tanh`, ale okazało się to nieefektywne przy uczeniu głębokich sieci o wielu warstwach. Nowoczesne sieci korzystają zwykle z funkcji ReLU (*rectified linear unit*), która jest zaskakująco prosta: $ReLU(x) = \\max(0, x)$. Okazało się, że bardzo dobrze nadaje się do treningu nawet bardzo głębokich sieci neuronowych. Nowsze funkcje aktywacji są głównie modyfikacjami ReLU.\n",
    "\n",
    "![relu](https://www.nomidl.com/wp-content/uploads/2022/04/image-10.png)"
   ]
  },
  {
   "cell_type": "markdown",
   "metadata": {},
   "source": [
    "### MLP w PyTorchu\n",
    "\n",
    "Warstwę neuronów w MLP nazywa się warstwą gęstą (*dense layer*) lub warstwą w pełni połączoną (*fully-connected layer*) i taki opis oznacza zwykle same neurony oraz funkcję aktywacji. PyTorch, jak już widzieliśmy, definiuje osobno transformację liniową oraz aktywację, a więc jedna warstwa składa się de facto z 2 obiektów, wywoływanych jeden po drugim. Inne frameworki, szczególnie wysokopoziomowe (np. Keras) łączą to często w jeden obiekt.\n",
    "\n",
    "MLP składa się zatem z sekwencji obiektów, które potem wywołuje się jeden po drugim, gdzie wyjście poprzedniego to wejście kolejnego. Ale nie można tutaj używać Pythonowych list! Z perspektywy PyTorcha to wtedy niezależne obiekty i nie zostanie przekazany między nimi gradient. Trzeba tutaj skorzystać z `nn.Sequential`, aby stworzyć taki pipeline.\n",
    "\n",
    "Rozmiary wejścia i wyjścia dla każdej warstwy trzeba w PyTorchu podawać explicite. Jest to po pierwsze edukacyjne, a po drugie często ułatwia wnioskowanie o działaniu sieci oraz jej debugowanie - mamy jasno podane, czego oczekujemy. Niektóre frameworki (np. Keras) obliczają to automatycznie.\n",
    "\n",
    "Co ważne, ostatnia warstwa zwykle nie ma funkcji aktywacji. Wynika to z tego, że obliczanie wielu funkcji kosztu (np. entropii krzyżowej) na aktywacjach jest często niestabilne numerycznie. Z tego powodu PyTorch oferuje funkcje kosztu zawierające w środku aktywację dla ostatniej warstwy, a ich implementacje są stabilne numerycznie. Przykładowo, `nn.BCELoss` przyjmuje wejście z zaaplikowanymi już aktywacjami, ale może skutkować under/overflow, natomiast `nn.BCEWithLogitsLoss` przyjmuje wejście bez aktywacji, a w środku ma specjalną implementację, łączącą binarną entropię krzyżową z aktywacją sigmoidalną. Oczywiście w związku z tym, aby dokonać potem predykcji w praktyce, trzeba pamiętać o użyciu funkcji aktywacji. Często korzysta się przy tym z funkcji z modułu `torch.nn.functional`, które są w tym wypadku nieco wygodniejsze od klas wywoływalnych z `torch.nn`.\n",
    "\n",
    "Całe sieci w PyTorchu tworzy się jako klasy dziedziczące po `nn.Module`. Co ważne, obiekty, z których tworzymy sieć, np. `nn.Linear`, także dziedziczą po tej klasie. Pozwala to na bardzo modułową budowę kodu, zgodną z zasadami OOP. W konstruktorze najpierw trzeba zawsze wywołać konstruktor rodzica - `super().__init__()`, a później tworzy się potrzebne obiekty i zapisuje jako atrybuty. Każdy atrybut dziedziczący po `nn.Module` lub `nn.Parameter` jest uważany za taki, który zawiera parametry sieci, a więc przy wywołaniu metody `parameters()` - parametry z tych atrybutów pojawią się w liście wszystkich parametrów. Musimy też zdefiniować metodę `forward()`, która przyjmuje tensor `x` i zwraca wynik. Typowo ta metoda po prostu używa obiektów zdefiniowanych w konstruktorze.\n",
    "\n",
    "\n",
    "**UWAGA: nigdy w normalnych warunkach nie woła się metody `forward` ręcznie!**"
   ]
  },
  {
   "cell_type": "markdown",
   "metadata": {
    "editable": true,
    "id": "J8niDgExAMDO",
    "slideshow": {
     "slide_type": ""
    },
    "tags": [
     "ex"
    ]
   },
   "source": [
    "### Zadanie 4 (0.5 punktu)\n",
    "\n",
    "Uzupełnij implementację 3-warstwowej sieci MLP. Użyj rozmiarów:\n",
    "* pierwsza warstwa: `input_size` x 256\n",
    "* druga warstwa: 256 x 128\n",
    "* trzecia warstwa: 128 x 1\n",
    "\n",
    "Użyj funkcji aktywacji ReLU.\n",
    "\n",
    "Przydatne klasy:\n",
    "- `nn.Sequential`\n",
    "- `nn.Linear`\n",
    "- `nn.ReLU`"
   ]
  },
  {
   "cell_type": "code",
   "execution_count": 32,
   "metadata": {
    "tags": [
     "ex"
    ]
   },
   "outputs": [],
   "source": [
    "from torch import sigmoid\n",
    "\n",
    "class MLP(nn.Module):\n",
    "    def __init__(self, input_size: int):\n",
    "        super().__init__()\n",
    "        # implement me!\n",
    "        # your_code\n",
    "        self.mlp = nn.Sequential(\n",
    "            nn.Linear(input_size, 256),\n",
    "            nn.ReLU(),\n",
    "            nn.Linear(256, 128),\n",
    "            nn.ReLU(),\n",
    "            nn.Linear(128, 1)\n",
    "        )\n",
    "\n",
    "    def forward(self, x):\n",
    "        # implement me!\n",
    "        # your_code\n",
    "        return self.mlp(x)\n",
    "\n",
    "    def predict_proba(self, x):\n",
    "        return sigmoid(self(x))\n",
    "    \n",
    "    def predict(self, x, threshold: float = 0.5):\n",
    "        y_pred_score = self.predict_proba(x)\n",
    "        return (y_pred_score > threshold).to(torch.int32)"
   ]
  },
  {
   "cell_type": "code",
   "execution_count": 33,
   "metadata": {
    "editable": true,
    "slideshow": {
     "slide_type": ""
    },
    "tags": [
     "ex"
    ]
   },
   "outputs": [
    {
     "name": "stdout",
     "output_type": "stream",
     "text": [
      "Epoch 0 train loss: 0.7087\n",
      "Epoch 200 train loss: 0.6846\n",
      "Epoch 400 train loss: 0.6634\n",
      "Epoch 600 train loss: 0.6444\n",
      "Epoch 800 train loss: 0.6274\n",
      "Epoch 1000 train loss: 0.6121\n",
      "Epoch 1200 train loss: 0.5983\n",
      "Epoch 1400 train loss: 0.5859\n",
      "Epoch 1600 train loss: 0.5748\n",
      "Epoch 1800 train loss: 0.5649\n",
      "final loss: 0.5559\n"
     ]
    }
   ],
   "source": [
    "# 43s\n",
    "learning_rate = 1e-3\n",
    "model = MLP(input_size=X_train.shape[1])\n",
    "optimizer = torch.optim.SGD(model.parameters(), lr=learning_rate)\n",
    "\n",
    "# note that we are using loss function with sigmoid built in\n",
    "loss_fn = torch.nn.BCEWithLogitsLoss()\n",
    "num_epochs = 2000\n",
    "evaluation_steps = 200\n",
    "\n",
    "for i in range(num_epochs):\n",
    "    y_pred = model(X_train)\n",
    "    loss = loss_fn(y_pred, y_train)\n",
    "    loss.backward()\n",
    "\n",
    "    optimizer.step()\n",
    "    optimizer.zero_grad()\n",
    "\n",
    "    if i % evaluation_steps == 0:\n",
    "        print(f\"Epoch {i} train loss: {loss.item():.4f}\")\n",
    "\n",
    "print(f\"final loss: {loss.item():.4f}\")"
   ]
  },
  {
   "cell_type": "code",
   "execution_count": 34,
   "metadata": {
    "colab": {
     "base_uri": "https://localhost:8080/"
    },
    "id": "LP5GSup24dXU",
    "outputId": "05f332c4-5d94-41f6-f85b-17793d3c4b49",
    "tags": [
     "ex"
    ]
   },
   "outputs": [
    {
     "name": "stdout",
     "output_type": "stream",
     "text": [
      "AUROC: 79.44%\n"
     ]
    },
    {
     "data": {
      "image/png": "[encoded data removed]",
      "text/plain": [
       "<Figure size 640x480 with 1 Axes>"
      ]
     },
     "metadata": {},
     "output_type": "display_data"
    }
   ],
   "source": [
    "model.eval()\n",
    "with torch.no_grad():\n",
    "    # positive class probabilities\n",
    "    y_pred_valid_score = model.predict_proba(X_valid)\n",
    "    y_pred_test_score = model.predict_proba(X_test)\n",
    "\n",
    "auroc = roc_auc_score(y_test, y_pred_test_score)\n",
    "print(f\"AUROC: {auroc:.2%}\")\n",
    "\n",
    "plot_precision_recall_curve(y_valid, y_pred_valid_score)"
   ]
  },
  {
   "cell_type": "code",
   "execution_count": 35,
   "metadata": {
    "tags": [
     "ex"
    ]
   },
   "outputs": [
    {
     "name": "stdout",
     "output_type": "stream",
     "text": [
      "Solution is correct!\n"
     ]
    }
   ],
   "source": [
    "assert any(\n",
    "    isinstance(module, nn.Linear) and module.in_features == X_train.shape[1] and module.out_features == 256\n",
    "    for module in model.modules()\n",
    ")\n",
    "\n",
    "assert any(\n",
    "    isinstance(module, nn.Linear) and module.in_features == 256 and module.out_features == 128\n",
    "    for module in model.modules()\n",
    ")\n",
    "\n",
    "assert any(\n",
    "    isinstance(module, nn.Linear) and module.in_features == 128 and module.out_features == 1\n",
    "    for module in model.modules()\n",
    ")\n",
    "\n",
    "assert any(isinstance(module, nn.ReLU) for module in model.modules())\n",
    "\n",
    "assert 0.5 < loss.item() < 0.6\n",
    "assert 0.6 < auroc < 0.9\n",
    "\n",
    "print(\"Solution is correct!\")"
   ]
  },
  {
   "cell_type": "markdown",
   "metadata": {},
   "source": [
    "AUROC jest podobne, a precision i recall spadły - wypadamy wręcz gorzej od regresji liniowej! Skoro dodaliśmy więcej warstw, to może pojemność modelu jest teraz za duża i trzeba by go zregularyzować?\n",
    "\n",
    "Sieci neuronowe bardzo łatwo przeuczają, bo są bardzo elastycznymi i pojemnymi modelami. Dlatego mają wiele różnych rodzajów regularyzacji, których używa się razem. Co ciekawe, udowodniono eksperymentalnie, że zbyt duże sieci z mocną regularyzacją działają lepiej niż mniejsze sieci, odpowiedniego rozmiaru, za to ze słabszą regularyzacją.\n",
    "\n",
    "Pierwszy rodzaj regularyzacji to znana nam już **regularyzacja L2**, czyli penalizacja zbyt dużych wag. W kontekście sieci neuronowych nazywa się też ją czasem *weight decay*. W PyTorchu dodaje się ją jako argument do optymalizatora.\n",
    "\n",
    "Regularyzacja specyficzna dla sieci neuronowych to **dropout**. Polega on na losowym wyłączaniu zadanego procenta neuronów podczas treningu. Pomimo prostoty okazała się niesamowicie skuteczna, szczególnie w treningu bardzo głębokich sieci. Co ważne, jest to mechanizm używany tylko podczas treningu - w trakcie predykcji za pomocą sieci wyłącza się ten mechanizm i dokonuje normalnie predykcji całą siecią. Podejście to można potraktować jak ensemble learning, podobny do lasów losowych - wyłączając losowe części sieci, w każdej iteracji trenujemy nieco inną sieć, co odpowiada uśrednianiu predykcji różnych algorytmów. Typowo stosuje się dość mocny dropout, rzędu 25-50%. W PyTorchu implementuje go warstwa `nn.Dropout`, aplikowana zazwyczaj po funkcji aktywacji.\n",
    "\n",
    "Ostatni, a być może najważniejszy rodzaj regularyzacji, to **wczesny stop (early stopping)**. W każdym kroku mocniej dostosowujemy trenowaną sieć do zbioru treningowego, a więc zbyt długi trening będzie skutkował przeuczeniem. W metodzie wczesnego stopu używamy wydzielonego zbioru walidacyjnego (pojedynczego, metoda holdout), sprawdzając co określoną liczbę epok wynik na tym zbiorze. Jeżeli nie uzyskamy wyniku lepszego od najlepszego dotychczas uzyskanego przez określoną liczbę epok, to przerywamy trening. Okres, przez który czekamy na uzyskanie lepszego wyniku, to cierpliwość (*patience*). Im mniejsza, tym mocniejszy jest ten rodzaj regularyzacji, ale trzeba z tym uważać, bo łatwo jest przesadzić i zbyt szybko przerywać trening. Niektóre implementacje uwzględniają tzw. *grace period*, czyli gwarantowaną minimalną liczbę epok, przez którą będziemy trenować sieć, niezależnie od wybranej cierpliwości.\n",
    "\n",
    "Dodatkowo ryzyko przeuczenia można zmniejszyć, używając mniejszej stałej uczącej."
   ]
  },
  {
   "cell_type": "markdown",
   "metadata": {
    "tags": [
     "ex"
    ]
   },
   "source": [
    "### Zadanie 5 (1.5 punktu)\n",
    "\n",
    "Zaimplementuj funkcję `evaluate_model()`, obliczającą metryki na zbiorze testowym:\n",
    "- wartość funkcji kosztu (loss)\n",
    "- AUROC\n",
    "- optymalny próg\n",
    "- F1-score przy optymalnym progu\n",
    "- precyzję oraz recall dla optymalnego progu\n",
    "\n",
    "Jeżeli podana jest wartość argumentu `threshold`, to użyj jej do zamiany prawdopodobieństw na twarde predykcje. W przeciwnym razie użyj funkcji `get_optimal_threshold` i oblicz optymalną wartość progu.\n",
    "\n",
    "Pamiętaj o przełączeniu modelu w tryb ewaluacji oraz o wyłączeniu obliczania gradientów."
   ]
  },
  {
   "cell_type": "code",
   "execution_count": 36,
   "metadata": {
    "tags": [
     "ex"
    ]
   },
   "outputs": [],
   "source": [
    "from typing import Optional\n",
    "\n",
    "from sklearn.metrics import precision_score, recall_score, f1_score\n",
    "from torch import sigmoid\n",
    "\n",
    "def evaluate_model(\n",
    "    model: nn.Module, \n",
    "    X: torch.Tensor, \n",
    "    y: torch.Tensor, \n",
    "    loss_fn: nn.Module,\n",
    "    threshold: Optional[float] = None\n",
    ") -> Dict[str, float]:\n",
    "    # implement me!\n",
    "    # your_code        \n",
    "    model.eval()\n",
    "    with torch.no_grad():\n",
    "        y_pred = model(X)\n",
    "        y_pred_score = model.predict_proba(X)\n",
    "        \n",
    "    precisions, recalls, thresholds = precision_recall_curve(y, y_pred)\n",
    "\n",
    "    if threshold is None:\n",
    "        idx, threshold = get_optimal_threshold(precisions, recalls, thresholds)\n",
    "    else:\n",
    "        idx = np.argmin(np.abs(thresholds - threshold))\n",
    "   \n",
    "    loss = loss_fn(y_pred, y)\n",
    "    auroc = roc_auc_score(y, y_pred_score) \n",
    "    precision = precisions[idx]\n",
    "    recall = recalls[idx]\n",
    "    f1 = 2 * precision * recall / (precision + recall)\n",
    "        \n",
    "    eval_result = {}\n",
    "    eval_result[\"loss\"] = loss.item()\n",
    "    eval_result[\"AUROC\"] = auroc\n",
    "    eval_result[\"threshold\"] = threshold\n",
    "    eval_result[\"precision\"] = precision\n",
    "    eval_result[\"recall\"] = recall\n",
    "    eval_result[\"F1-score\"] = f1\n",
    "    \n",
    "    return eval_result"
   ]
  },
  {
   "cell_type": "code",
   "execution_count": 37,
   "metadata": {
    "tags": [
     "ex"
    ]
   },
   "outputs": [
    {
     "name": "stdout",
     "output_type": "stream",
     "text": [
      "Solution is correct!\n"
     ]
    }
   ],
   "source": [
    "eval_result = evaluate_model(model, X_train, y_train, loss_fn)\n",
    "\n",
    "assert 0.5 < eval_result[\"loss\"] < 0.6\n",
    "assert 0.6 < eval_result[\"AUROC\"] < 0.9\n",
    "assert 0.3 < eval_result[\"precision\"] < 0.6\n",
    "assert 0.6 < eval_result[\"recall\"] < 0.9\n",
    "assert 0.4 < eval_result[\"F1-score\"] < 0.7\n",
    "\n",
    "print(\"Solution is correct!\")"
   ]
  },
  {
   "cell_type": "markdown",
   "metadata": {
    "tags": [
     "ex"
    ]
   },
   "source": [
    "### Zadanie 6 (0.5 punktu)\n",
    "\n",
    "Zaimplementuj 3-warstwową sieć MLP z dropout (50%). Rozmiary warstw ukrytych mają wynosić 256 i 128."
   ]
  },
  {
   "cell_type": "code",
   "execution_count": 38,
   "metadata": {
    "tags": [
     "ex"
    ]
   },
   "outputs": [],
   "source": [
    "class RegularizedMLP(nn.Module):\n",
    "    def __init__(self, input_size: int, dropout_p: float = 0.5):\n",
    "        super().__init__()\n",
    "        # implement me!\n",
    "        # your_code\n",
    "        self.mlp = nn.Sequential(\n",
    "            nn.Linear(input_size, 256),\n",
    "            nn.ReLU(),\n",
    "            nn.Dropout(dropout_p),\n",
    "            nn.Linear(256, 128),\n",
    "            nn.ReLU(),\n",
    "            nn.Dropout(dropout_p),\n",
    "            nn.Linear(128, 1)\n",
    "        )\n",
    "    \n",
    "    def forward(self, x):\n",
    "        # implement me!\n",
    "        # your_code\n",
    "        return self.mlp(x)\n",
    "\n",
    "    def predict_proba(self, x):\n",
    "        return sigmoid(self(x))\n",
    "    \n",
    "    def predict(self, x, threshold: float = 0.5):\n",
    "        y_pred_score = self.predict_proba(x)\n",
    "        return (y_pred_score > threshold).to(torch.int32)"
   ]
  },
  {
   "cell_type": "code",
   "execution_count": 39,
   "metadata": {
    "tags": [
     "ex"
    ]
   },
   "outputs": [
    {
     "name": "stdout",
     "output_type": "stream",
     "text": [
      "Solution is correct!\n"
     ]
    }
   ],
   "source": [
    "verification_input_size = 143\n",
    "verification_dropout_p = 0.125\n",
    "verification_model = RegularizedMLP(\n",
    "    input_size=verification_input_size,\n",
    "    dropout_p=verification_dropout_p,\n",
    ")\n",
    "\n",
    "assert any(\n",
    "    isinstance(module, nn.Linear) and module.in_features == verification_input_size and module.out_features == 256\n",
    "    for module in verification_model.modules()\n",
    ")\n",
    "\n",
    "assert any(\n",
    "    isinstance(module, nn.Linear) and module.in_features == 256 and module.out_features == 128\n",
    "    for module in verification_model.modules()\n",
    ")\n",
    "\n",
    "assert any(\n",
    "    isinstance(module, nn.Linear) and module.in_features == 128 and module.out_features == 1\n",
    "    for module in verification_model.modules()\n",
    ")\n",
    "\n",
    "assert any(isinstance(module, nn.Dropout) and module.p == verification_dropout_p for module in verification_model.modules())\n",
    "assert any(isinstance(module, nn.ReLU) for module in verification_model.modules())\n",
    "\n",
    "print(\"Solution is correct!\")"
   ]
  },
  {
   "cell_type": "markdown",
   "metadata": {
    "id": "rEk9azaULAsz"
   },
   "source": [
    "Opisaliśmy wcześniej podstawowy optymalizator w sieciach neuronowych - spadek wzdłuż gradientu. Jednak wymaga on użycia całego zbioru danych, aby obliczyć gradient, co jest często niewykonalne przez rozmiar zbioru. Dlatego wymyślono **stochastyczny spadek wzdłuż gradientu (stochastic gradient descent, SGD)**, w którym używamy 1 przykładu naraz, liczymy gradient tylko po nim i aktualizujemy parametry. Jest to oczywiście dość grube przybliżenie gradientu, ale pozwala robić szybko dużo małych kroków. Kompromisem, którego używa się w praktyce, jest **minibatch gradient descent**, czyli używanie batchy np. 32, 64 czy 128 przykładów.\n",
    "\n",
    "Rzadko wspominanym, a ważnym faktem jest także to, że stochastyczność metody optymalizacji jest sama w sobie też [metodą regularyzacji](https://arxiv.org/abs/2101.12176), a więc `batch_size` to także hiperparametr.\n",
    "\n",
    "Obecnie najpopularniejszą odmianą SGD jest [Adam](https://arxiv.org/abs/1412.6980), gdyż uczy on szybko sieć oraz daje bardzo dobre wyniki, nawet przy niekoniecznie idealnie dobranych hiperparametrach. W PyTorchu najlepiej korzystać z jego implementacji `AdamW`, która jest nieco lepsza niż implementacja `Adam`. Jest to zasadniczo zawsze wybór domyślny przy treningu współczesnych sieci neuronowych.\n",
    "\n",
    "Na razie użyjemy jednak minibatch SGD."
   ]
  },
  {
   "cell_type": "markdown",
   "metadata": {},
   "source": [
    "Poniżej znajduje się implementacja prostej klasy dziedziczącej po `Dataset` - tak w PyTorchu implementuje się własne zbiory danych. Użycie takich klas umożliwia użycie klas ładujących dane (`DataLoader`), które z kolei pozwalają łatwo ładować batche danych. Trzeba w takiej klasie zaimplementować metody:\n",
    "- `__len__` - zwraca ilość punktów w zbiorze\n",
    "- `__getitem__` - zwraca przykład ze zbioru pod danym indeksem oraz jego klasę\n"
   ]
  },
  {
   "cell_type": "code",
   "execution_count": 40,
   "metadata": {},
   "outputs": [],
   "source": [
    "from torch.utils.data import Dataset\n",
    "\n",
    "class MyDataset(Dataset):\n",
    "    def __init__(self, data, y):\n",
    "        super().__init__()\n",
    "        \n",
    "        self.data = data\n",
    "        self.y = y\n",
    "    \n",
    "    def __len__(self):\n",
    "        return self.data.shape[0]\n",
    "    \n",
    "    def __getitem__(self, idx):\n",
    "        return self.data[idx], self.y[idx]"
   ]
  },
  {
   "cell_type": "markdown",
   "metadata": {
    "tags": [
     "ex"
    ]
   },
   "source": [
    "### Zadanie 7 (1.5 punktu)\n",
    "\n",
    "Zaimplementuj pętlę treningowo-walidacyjną dla sieci neuronowej. Wykorzystaj podane wartości hiperparametrów do treningu (stała ucząca, prawdopodobieństwo dropoutu, regularyzacja L2, rozmiar batcha, maksymalna liczba epok). Użyj optymalizatora SGD.\n",
    "\n",
    "Dodatkowo zaimplementuj regularyzację przez early stopping. Sprawdzaj co epokę wynik na zbiorze walidacyjnym. Użyj podanej wartości patience, a jako metryki po prostu wartości funkcji kosztu. Może się tutaj przydać zaimplementowana funkcja `evaluate_model()`.\n",
    "\n",
    "Pamiętaj o tym, aby przechowywać najlepszy dotychczasowy wynik walidacyjny oraz najlepszy dotychczasowy model. Zapamiętaj też optymalny próg do klasyfikacji dla najlepszego modelu."
   ]
  },
  {
   "cell_type": "code",
   "execution_count": 41,
   "metadata": {
    "tags": [
     "ex"
    ]
   },
   "outputs": [],
   "source": [
    "from copy import deepcopy\n",
    "from torch.utils.data import DataLoader\n",
    "\n",
    "learning_rate = 1e-3\n",
    "dropout_p = 0.5\n",
    "l2_reg = 1e-4\n",
    "batch_size = 128\n",
    "max_epochs = 300\n",
    "\n",
    "early_stopping_patience = 4"
   ]
  },
  {
   "cell_type": "code",
   "execution_count": 42,
   "metadata": {
    "editable": true,
    "lines_to_next_cell": 2,
    "scrolled": true,
    "slideshow": {
     "slide_type": ""
    },
    "tags": [
     "ex"
    ]
   },
   "outputs": [
    {
     "name": "stdout",
     "output_type": "stream",
     "text": [
      "Epoch 0 train loss: 0.6508, eval loss 0.6544\n",
      "Epoch 1 train loss: 0.6335, eval loss 0.6418\n",
      "Epoch 2 train loss: 0.6189, eval loss 0.6305\n",
      "Epoch 3 train loss: 0.6129, eval loss 0.6203\n",
      "Epoch 4 train loss: 0.6016, eval loss 0.6111\n",
      "Epoch 5 train loss: 0.5901, eval loss 0.6026\n",
      "Epoch 6 train loss: 0.5840, eval loss 0.5949\n",
      "Epoch 7 train loss: 0.5785, eval loss 0.5879\n",
      "Epoch 8 train loss: 0.5729, eval loss 0.5814\n",
      "Epoch 9 train loss: 0.5632, eval loss 0.5754\n",
      "Epoch 10 train loss: 0.5600, eval loss 0.5699\n",
      "Epoch 11 train loss: 0.5620, eval loss 0.5648\n",
      "Epoch 12 train loss: 0.5500, eval loss 0.5601\n",
      "Epoch 13 train loss: 0.5430, eval loss 0.5556\n",
      "Epoch 14 train loss: 0.5403, eval loss 0.5514\n",
      "Epoch 15 train loss: 0.5283, eval loss 0.5475\n",
      "Epoch 16 train loss: 0.5460, eval loss 0.5437\n",
      "Epoch 17 train loss: 0.5263, eval loss 0.5401\n",
      "Epoch 18 train loss: 0.5315, eval loss 0.5366\n",
      "Epoch 19 train loss: 0.5221, eval loss 0.5333\n",
      "Epoch 20 train loss: 0.5185, eval loss 0.5300\n",
      "Epoch 21 train loss: 0.5133, eval loss 0.5268\n",
      "Epoch 22 train loss: 0.5022, eval loss 0.5237\n",
      "Epoch 23 train loss: 0.5139, eval loss 0.5205\n",
      "Epoch 24 train loss: 0.5126, eval loss 0.5174\n",
      "Epoch 25 train loss: 0.5130, eval loss 0.5144\n",
      "Epoch 26 train loss: 0.5088, eval loss 0.5113\n",
      "Epoch 27 train loss: 0.4967, eval loss 0.5082\n",
      "Epoch 28 train loss: 0.5058, eval loss 0.5051\n",
      "Epoch 29 train loss: 0.4956, eval loss 0.5020\n",
      "Epoch 30 train loss: 0.4959, eval loss 0.4989\n",
      "Epoch 31 train loss: 0.4894, eval loss 0.4957\n",
      "Epoch 32 train loss: 0.4848, eval loss 0.4925\n",
      "Epoch 33 train loss: 0.4975, eval loss 0.4893\n",
      "Epoch 34 train loss: 0.5048, eval loss 0.4861\n",
      "Epoch 35 train loss: 0.4756, eval loss 0.4829\n",
      "Epoch 36 train loss: 0.4829, eval loss 0.4796\n",
      "Epoch 37 train loss: 0.4651, eval loss 0.4764\n",
      "Epoch 38 train loss: 0.4668, eval loss 0.4731\n",
      "Epoch 39 train loss: 0.4682, eval loss 0.4698\n",
      "Epoch 40 train loss: 0.4639, eval loss 0.4665\n",
      "Epoch 41 train loss: 0.4631, eval loss 0.4632\n",
      "Epoch 42 train loss: 0.4514, eval loss 0.4599\n",
      "Epoch 43 train loss: 0.4731, eval loss 0.4566\n",
      "Epoch 44 train loss: 0.4731, eval loss 0.4534\n",
      "Epoch 45 train loss: 0.4587, eval loss 0.4501\n",
      "Epoch 46 train loss: 0.4530, eval loss 0.4469\n",
      "Epoch 47 train loss: 0.4497, eval loss 0.4438\n",
      "Epoch 48 train loss: 0.4570, eval loss 0.4406\n",
      "Epoch 49 train loss: 0.4609, eval loss 0.4375\n",
      "Epoch 50 train loss: 0.4482, eval loss 0.4344\n",
      "Epoch 51 train loss: 0.4298, eval loss 0.4314\n",
      "Epoch 52 train loss: 0.4450, eval loss 0.4285\n",
      "Epoch 53 train loss: 0.4401, eval loss 0.4255\n",
      "Epoch 54 train loss: 0.4318, eval loss 0.4227\n",
      "Epoch 55 train loss: 0.4295, eval loss 0.4199\n",
      "Epoch 56 train loss: 0.4321, eval loss 0.4172\n",
      "Epoch 57 train loss: 0.4329, eval loss 0.4145\n",
      "Epoch 58 train loss: 0.4268, eval loss 0.4119\n",
      "Epoch 59 train loss: 0.4572, eval loss 0.4094\n",
      "Epoch 60 train loss: 0.4243, eval loss 0.4069\n",
      "Epoch 61 train loss: 0.4246, eval loss 0.4045\n",
      "Epoch 62 train loss: 0.4254, eval loss 0.4021\n",
      "Epoch 63 train loss: 0.3939, eval loss 0.3999\n",
      "Epoch 64 train loss: 0.4211, eval loss 0.3976\n",
      "Epoch 65 train loss: 0.4348, eval loss 0.3955\n",
      "Epoch 66 train loss: 0.4006, eval loss 0.3934\n",
      "Epoch 67 train loss: 0.4198, eval loss 0.3915\n",
      "Epoch 68 train loss: 0.4101, eval loss 0.3895\n",
      "Epoch 69 train loss: 0.4045, eval loss 0.3877\n",
      "Epoch 70 train loss: 0.4157, eval loss 0.3859\n",
      "Epoch 71 train loss: 0.4084, eval loss 0.3842\n",
      "Epoch 72 train loss: 0.4140, eval loss 0.3826\n",
      "Epoch 73 train loss: 0.3949, eval loss 0.3810\n",
      "Epoch 74 train loss: 0.3894, eval loss 0.3795\n",
      "Epoch 75 train loss: 0.4237, eval loss 0.3781\n",
      "Epoch 76 train loss: 0.4072, eval loss 0.3767\n",
      "Epoch 77 train loss: 0.4153, eval loss 0.3754\n",
      "Epoch 78 train loss: 0.4305, eval loss 0.3741\n",
      "Epoch 79 train loss: 0.3845, eval loss 0.3730\n",
      "Epoch 80 train loss: 0.3821, eval loss 0.3718\n",
      "Epoch 81 train loss: 0.3929, eval loss 0.3707\n",
      "Epoch 82 train loss: 0.3992, eval loss 0.3697\n",
      "Epoch 83 train loss: 0.4362, eval loss 0.3687\n",
      "Epoch 84 train loss: 0.4097, eval loss 0.3678\n",
      "Epoch 85 train loss: 0.3888, eval loss 0.3669\n",
      "Epoch 86 train loss: 0.4155, eval loss 0.3660\n",
      "Epoch 87 train loss: 0.3793, eval loss 0.3652\n",
      "Epoch 88 train loss: 0.4102, eval loss 0.3645\n",
      "Epoch 89 train loss: 0.4133, eval loss 0.3637\n",
      "Epoch 90 train loss: 0.4177, eval loss 0.3630\n",
      "Epoch 91 train loss: 0.3905, eval loss 0.3624\n",
      "Epoch 92 train loss: 0.3980, eval loss 0.3617\n",
      "Epoch 93 train loss: 0.3823, eval loss 0.3611\n",
      "Epoch 94 train loss: 0.4001, eval loss 0.3605\n",
      "Epoch 95 train loss: 0.3855, eval loss 0.3599\n",
      "Epoch 96 train loss: 0.3870, eval loss 0.3594\n",
      "Epoch 97 train loss: 0.3800, eval loss 0.3589\n",
      "Epoch 98 train loss: 0.3993, eval loss 0.3584\n",
      "Epoch 99 train loss: 0.3991, eval loss 0.3579\n",
      "Epoch 100 train loss: 0.4113, eval loss 0.3574\n",
      "Epoch 101 train loss: 0.3865, eval loss 0.3570\n",
      "Epoch 102 train loss: 0.4143, eval loss 0.3566\n",
      "Epoch 103 train loss: 0.3621, eval loss 0.3561\n",
      "Epoch 104 train loss: 0.4410, eval loss 0.3557\n",
      "Epoch 105 train loss: 0.4073, eval loss 0.3554\n",
      "Epoch 106 train loss: 0.3940, eval loss 0.3550\n",
      "Epoch 107 train loss: 0.3868, eval loss 0.3546\n",
      "Epoch 108 train loss: 0.4056, eval loss 0.3543\n",
      "Epoch 109 train loss: 0.4190, eval loss 0.3540\n",
      "Epoch 110 train loss: 0.3826, eval loss 0.3536\n",
      "Epoch 111 train loss: 0.4079, eval loss 0.3533\n",
      "Epoch 112 train loss: 0.3893, eval loss 0.3530\n",
      "Epoch 113 train loss: 0.3791, eval loss 0.3527\n",
      "Epoch 114 train loss: 0.3869, eval loss 0.3524\n",
      "Epoch 115 train loss: 0.4093, eval loss 0.3521\n",
      "Epoch 116 train loss: 0.4053, eval loss 0.3518\n",
      "Epoch 117 train loss: 0.3797, eval loss 0.3515\n",
      "Epoch 118 train loss: 0.3655, eval loss 0.3513\n",
      "Epoch 119 train loss: 0.3830, eval loss 0.3510\n",
      "Epoch 120 train loss: 0.4037, eval loss 0.3507\n",
      "Epoch 121 train loss: 0.3929, eval loss 0.3505\n",
      "Epoch 122 train loss: 0.3721, eval loss 0.3502\n",
      "Epoch 123 train loss: 0.3929, eval loss 0.3500\n",
      "Epoch 124 train loss: 0.4017, eval loss 0.3497\n",
      "Epoch 125 train loss: 0.3542, eval loss 0.3495\n",
      "Epoch 126 train loss: 0.3887, eval loss 0.3492\n",
      "Epoch 127 train loss: 0.4018, eval loss 0.3490\n",
      "Epoch 128 train loss: 0.3961, eval loss 0.3488\n",
      "Epoch 129 train loss: 0.3807, eval loss 0.3485\n",
      "Epoch 130 train loss: 0.3817, eval loss 0.3483\n",
      "Epoch 131 train loss: 0.4433, eval loss 0.3481\n",
      "Epoch 132 train loss: 0.3848, eval loss 0.3479\n",
      "Epoch 133 train loss: 0.3949, eval loss 0.3477\n",
      "Epoch 134 train loss: 0.3834, eval loss 0.3474\n",
      "Epoch 135 train loss: 0.3971, eval loss 0.3472\n",
      "Epoch 136 train loss: 0.3730, eval loss 0.3470\n",
      "Epoch 137 train loss: 0.3917, eval loss 0.3468\n",
      "Epoch 138 train loss: 0.3774, eval loss 0.3466\n",
      "Epoch 139 train loss: 0.3851, eval loss 0.3464\n",
      "Epoch 140 train loss: 0.4192, eval loss 0.3462\n",
      "Epoch 141 train loss: 0.4128, eval loss 0.3460\n",
      "Epoch 142 train loss: 0.3571, eval loss 0.3458\n",
      "Epoch 143 train loss: 0.3742, eval loss 0.3456\n",
      "Epoch 144 train loss: 0.3322, eval loss 0.3454\n",
      "Epoch 145 train loss: 0.3939, eval loss 0.3453\n",
      "Epoch 146 train loss: 0.3941, eval loss 0.3451\n",
      "Epoch 147 train loss: 0.4191, eval loss 0.3449\n",
      "Epoch 148 train loss: 0.3787, eval loss 0.3447\n",
      "Epoch 149 train loss: 0.4050, eval loss 0.3445\n",
      "Epoch 150 train loss: 0.4151, eval loss 0.3443\n",
      "Epoch 151 train loss: 0.4240, eval loss 0.3441\n",
      "Epoch 152 train loss: 0.3821, eval loss 0.3440\n",
      "Epoch 153 train loss: 0.3884, eval loss 0.3438\n",
      "Epoch 154 train loss: 0.3827, eval loss 0.3436\n",
      "Epoch 155 train loss: 0.3845, eval loss 0.3434\n",
      "Epoch 156 train loss: 0.3995, eval loss 0.3433\n",
      "Epoch 157 train loss: 0.3748, eval loss 0.3431\n",
      "Epoch 158 train loss: 0.3913, eval loss 0.3429\n",
      "Epoch 159 train loss: 0.4087, eval loss 0.3428\n",
      "Epoch 160 train loss: 0.3930, eval loss 0.3426\n",
      "Epoch 161 train loss: 0.3819, eval loss 0.3424\n",
      "Epoch 162 train loss: 0.3516, eval loss 0.3423\n",
      "Epoch 163 train loss: 0.3978, eval loss 0.3421\n",
      "Epoch 164 train loss: 0.3816, eval loss 0.3419\n",
      "Epoch 165 train loss: 0.3858, eval loss 0.3418\n",
      "Epoch 166 train loss: 0.3806, eval loss 0.3416\n",
      "Epoch 167 train loss: 0.3917, eval loss 0.3415\n",
      "Epoch 168 train loss: 0.3800, eval loss 0.3413\n",
      "Epoch 169 train loss: 0.3925, eval loss 0.3412\n",
      "Epoch 170 train loss: 0.3821, eval loss 0.3410\n",
      "Epoch 171 train loss: 0.3959, eval loss 0.3408\n",
      "Epoch 172 train loss: 0.3759, eval loss 0.3407\n",
      "Epoch 173 train loss: 0.3620, eval loss 0.3405\n",
      "Epoch 174 train loss: 0.3772, eval loss 0.3404\n",
      "Epoch 175 train loss: 0.3832, eval loss 0.3402\n",
      "Epoch 176 train loss: 0.3591, eval loss 0.3401\n",
      "Epoch 177 train loss: 0.3860, eval loss 0.3400\n",
      "Epoch 178 train loss: 0.3646, eval loss 0.3398\n",
      "Epoch 179 train loss: 0.3810, eval loss 0.3397\n",
      "Epoch 180 train loss: 0.3736, eval loss 0.3395\n",
      "Epoch 181 train loss: 0.4029, eval loss 0.3394\n",
      "Epoch 182 train loss: 0.3882, eval loss 0.3392\n",
      "Epoch 183 train loss: 0.3654, eval loss 0.3391\n",
      "Epoch 184 train loss: 0.3814, eval loss 0.3389\n",
      "Epoch 185 train loss: 0.4051, eval loss 0.3388\n",
      "Epoch 186 train loss: 0.3560, eval loss 0.3387\n",
      "Epoch 187 train loss: 0.3831, eval loss 0.3385\n",
      "Epoch 188 train loss: 0.3958, eval loss 0.3384\n",
      "Epoch 189 train loss: 0.3915, eval loss 0.3382\n",
      "Epoch 190 train loss: 0.3770, eval loss 0.3381\n",
      "Epoch 191 train loss: 0.3719, eval loss 0.3380\n",
      "Epoch 192 train loss: 0.4115, eval loss 0.3379\n",
      "Epoch 193 train loss: 0.3835, eval loss 0.3377\n",
      "Epoch 194 train loss: 0.4164, eval loss 0.3376\n",
      "Epoch 195 train loss: 0.3821, eval loss 0.3375\n",
      "Epoch 196 train loss: 0.3977, eval loss 0.3373\n",
      "Epoch 197 train loss: 0.3754, eval loss 0.3372\n",
      "Epoch 198 train loss: 0.3563, eval loss 0.3371\n",
      "Epoch 199 train loss: 0.3969, eval loss 0.3370\n",
      "Epoch 200 train loss: 0.3965, eval loss 0.3368\n",
      "Epoch 201 train loss: 0.3963, eval loss 0.3367\n",
      "Epoch 202 train loss: 0.3697, eval loss 0.3366\n",
      "Epoch 203 train loss: 0.3493, eval loss 0.3365\n",
      "Epoch 204 train loss: 0.3800, eval loss 0.3364\n",
      "Epoch 205 train loss: 0.3900, eval loss 0.3362\n",
      "Epoch 206 train loss: 0.3422, eval loss 0.3361\n",
      "Epoch 207 train loss: 0.3792, eval loss 0.3360\n",
      "Epoch 208 train loss: 0.3765, eval loss 0.3359\n",
      "Epoch 209 train loss: 0.4145, eval loss 0.3358\n",
      "Epoch 210 train loss: 0.3980, eval loss 0.3357\n",
      "Epoch 211 train loss: 0.3799, eval loss 0.3355\n",
      "Epoch 212 train loss: 0.3758, eval loss 0.3354\n",
      "Epoch 213 train loss: 0.3777, eval loss 0.3353\n",
      "Epoch 214 train loss: 0.3494, eval loss 0.3352\n",
      "Epoch 215 train loss: 0.3675, eval loss 0.3351\n",
      "Epoch 216 train loss: 0.3704, eval loss 0.3350\n",
      "Epoch 217 train loss: 0.3580, eval loss 0.3349\n",
      "Epoch 218 train loss: 0.3913, eval loss 0.3348\n",
      "Epoch 219 train loss: 0.3940, eval loss 0.3346\n",
      "Epoch 220 train loss: 0.3974, eval loss 0.3345\n",
      "Epoch 221 train loss: 0.3489, eval loss 0.3344\n",
      "Epoch 222 train loss: 0.3821, eval loss 0.3343\n",
      "Epoch 223 train loss: 0.4045, eval loss 0.3342\n",
      "Epoch 224 train loss: 0.3800, eval loss 0.3341\n",
      "Epoch 225 train loss: 0.3655, eval loss 0.3340\n",
      "Epoch 226 train loss: 0.3918, eval loss 0.3339\n",
      "Epoch 227 train loss: 0.3900, eval loss 0.3338\n",
      "Epoch 228 train loss: 0.3892, eval loss 0.3337\n",
      "Epoch 229 train loss: 0.3982, eval loss 0.3336\n",
      "Epoch 230 train loss: 0.3432, eval loss 0.3335\n",
      "Epoch 231 train loss: 0.3831, eval loss 0.3334\n",
      "Epoch 232 train loss: 0.3897, eval loss 0.3333\n",
      "Epoch 233 train loss: 0.3375, eval loss 0.3332\n",
      "Epoch 234 train loss: 0.3884, eval loss 0.3331\n",
      "Epoch 235 train loss: 0.3795, eval loss 0.3330\n",
      "Epoch 236 train loss: 0.3442, eval loss 0.3329\n",
      "Epoch 237 train loss: 0.3700, eval loss 0.3328\n",
      "Epoch 238 train loss: 0.3540, eval loss 0.3327\n",
      "Epoch 239 train loss: 0.3967, eval loss 0.3326\n",
      "Epoch 240 train loss: 0.3943, eval loss 0.3325\n",
      "Epoch 241 train loss: 0.3881, eval loss 0.3325\n",
      "Epoch 242 train loss: 0.3731, eval loss 0.3324\n",
      "Epoch 243 train loss: 0.3767, eval loss 0.3323\n",
      "Epoch 244 train loss: 0.4027, eval loss 0.3322\n",
      "Epoch 245 train loss: 0.3826, eval loss 0.3321\n",
      "Epoch 246 train loss: 0.3625, eval loss 0.3320\n",
      "Epoch 247 train loss: 0.3797, eval loss 0.3319\n",
      "Epoch 248 train loss: 0.3397, eval loss 0.3318\n",
      "Epoch 249 train loss: 0.3969, eval loss 0.3318\n",
      "Epoch 250 train loss: 0.3740, eval loss 0.3317\n",
      "Epoch 251 train loss: 0.3929, eval loss 0.3316\n",
      "Epoch 252 train loss: 0.3698, eval loss 0.3315\n",
      "Epoch 253 train loss: 0.3686, eval loss 0.3314\n",
      "Epoch 254 train loss: 0.3587, eval loss 0.3313\n",
      "Epoch 255 train loss: 0.3917, eval loss 0.3312\n",
      "Epoch 256 train loss: 0.3768, eval loss 0.3311\n",
      "Epoch 257 train loss: 0.3965, eval loss 0.3311\n",
      "Epoch 258 train loss: 0.3616, eval loss 0.3310\n",
      "Epoch 259 train loss: 0.3504, eval loss 0.3309\n",
      "Epoch 260 train loss: 0.3567, eval loss 0.3308\n",
      "Epoch 261 train loss: 0.3790, eval loss 0.3308\n",
      "Epoch 262 train loss: 0.3889, eval loss 0.3307\n",
      "Epoch 263 train loss: 0.3790, eval loss 0.3306\n",
      "Epoch 264 train loss: 0.3844, eval loss 0.3305\n",
      "Epoch 265 train loss: 0.3400, eval loss 0.3304\n",
      "Epoch 266 train loss: 0.3590, eval loss 0.3304\n",
      "Epoch 267 train loss: 0.3586, eval loss 0.3303\n",
      "Epoch 268 train loss: 0.3625, eval loss 0.3302\n",
      "Epoch 269 train loss: 0.3785, eval loss 0.3301\n",
      "Epoch 270 train loss: 0.3812, eval loss 0.3300\n",
      "Epoch 271 train loss: 0.3643, eval loss 0.3300\n",
      "Epoch 272 train loss: 0.3610, eval loss 0.3299\n",
      "Epoch 273 train loss: 0.3740, eval loss 0.3298\n",
      "Epoch 274 train loss: 0.4122, eval loss 0.3297\n",
      "Epoch 275 train loss: 0.3714, eval loss 0.3297\n",
      "Epoch 276 train loss: 0.3741, eval loss 0.3296\n",
      "Epoch 277 train loss: 0.3722, eval loss 0.3295\n",
      "Epoch 278 train loss: 0.3606, eval loss 0.3294\n",
      "Epoch 279 train loss: 0.3784, eval loss 0.3293\n",
      "Epoch 280 train loss: 0.3654, eval loss 0.3293\n",
      "Epoch 281 train loss: 0.3547, eval loss 0.3292\n",
      "Epoch 282 train loss: 0.3675, eval loss 0.3291\n",
      "Epoch 283 train loss: 0.3870, eval loss 0.3291\n",
      "Epoch 284 train loss: 0.3476, eval loss 0.3290\n",
      "Epoch 285 train loss: 0.3680, eval loss 0.3289\n",
      "Epoch 286 train loss: 0.3793, eval loss 0.3288\n",
      "Epoch 287 train loss: 0.3831, eval loss 0.3288\n",
      "Epoch 288 train loss: 0.3371, eval loss 0.3287\n",
      "Epoch 289 train loss: 0.3575, eval loss 0.3286\n",
      "Epoch 290 train loss: 0.3636, eval loss 0.3286\n",
      "Epoch 291 train loss: 0.3544, eval loss 0.3285\n",
      "Epoch 292 train loss: 0.3916, eval loss 0.3284\n",
      "Epoch 293 train loss: 0.4001, eval loss 0.3284\n",
      "Epoch 294 train loss: 0.3985, eval loss 0.3283\n",
      "Epoch 295 train loss: 0.3663, eval loss 0.3282\n",
      "Epoch 296 train loss: 0.3872, eval loss 0.3282\n",
      "Epoch 297 train loss: 0.3569, eval loss 0.3281\n",
      "Epoch 298 train loss: 0.3805, eval loss 0.3281\n",
      "Epoch 299 train loss: 0.3759, eval loss 0.3280\n"
     ]
    }
   ],
   "source": [
    "# 1m\n",
    "model = RegularizedMLP(\n",
    "    input_size=X_train.shape[1], \n",
    "    dropout_p=dropout_p\n",
    ")\n",
    "\n",
    "optimizer = torch.optim.SGD(\n",
    "    model.parameters(), \n",
    "    lr=learning_rate, \n",
    "    weight_decay=l2_reg\n",
    ")\n",
    "\n",
    "loss_fn = torch.nn.BCEWithLogitsLoss()\n",
    "\n",
    "train_dataset = MyDataset(X_train, y_train)\n",
    "train_dataloader = DataLoader(train_dataset, batch_size=batch_size)\n",
    "\n",
    "steps_without_improvement = 0\n",
    "\n",
    "best_val_loss = np.inf\n",
    "best_model = None\n",
    "best_threshold = None\n",
    "\n",
    "for epoch_num in range(max_epochs):\n",
    "    model.train()\n",
    "    \n",
    "    # note that we are using DataLoader to get batches\n",
    "    for X_batch, y_batch in train_dataloader:\n",
    "        # model training\n",
    "        # implement me!\n",
    "        # your_code\n",
    "        y_pred = model(X_batch)\n",
    "        loss = loss_fn(y_pred, y_batch)\n",
    "        loss.backward()\n",
    "\n",
    "        optimizer.step()\n",
    "        optimizer.zero_grad()\n",
    "    \n",
    "    # model evaluation, early stopping\n",
    "    # implement me!\n",
    "    # your_code\n",
    "    model.eval()\n",
    "    valid_metrics = evaluate_model(model, X_valid, y_valid, loss_fn)\n",
    "    \n",
    "    if valid_metrics[\"loss\"] < best_val_loss:\n",
    "        steps_without_improvement = 0\n",
    "        best_val_loss = valid_metrics[\"loss\"]\n",
    "        best_model = model\n",
    "        best_threshold = valid_metrics[\"threshold\"]\n",
    "    elif steps_without_improvement == early_stopping_patience:\n",
    "        break\n",
    "    else:\n",
    "        steps_without_improvement += 1\n",
    "    \n",
    "    print(f\"Epoch {epoch_num} train loss: {loss.item():.4f}, eval loss {valid_metrics['loss']:.4f}\")"
   ]
  },
  {
   "cell_type": "code",
   "execution_count": 43,
   "metadata": {
    "tags": [
     "ex"
    ]
   },
   "outputs": [
    {
     "name": "stdout",
     "output_type": "stream",
     "text": [
      "AUROC: 90.18%\n",
      "F1: 68.57%\n",
      "Precision: 61.10%\n",
      "Recall: 78.12%\n"
     ]
    }
   ],
   "source": [
    "test_metrics = evaluate_model(best_model, X_test, y_test, loss_fn, best_threshold)\n",
    "\n",
    "print(f\"AUROC: {test_metrics['AUROC']:.2%}\")\n",
    "print(f\"F1: {test_metrics['F1-score']:.2%}\")\n",
    "print(f\"Precision: {test_metrics['precision']:.2%}\")\n",
    "print(f\"Recall: {test_metrics['recall']:.2%}\")"
   ]
  },
  {
   "cell_type": "code",
   "execution_count": 44,
   "metadata": {
    "tags": [
     "ex"
    ]
   },
   "outputs": [
    {
     "name": "stdout",
     "output_type": "stream",
     "text": [
      "Solution is correct!\n"
     ]
    }
   ],
   "source": [
    "assert test_metrics[\"AUROC\"] > 0.8\n",
    "assert test_metrics[\"F1-score\"] > 0.6\n",
    "assert test_metrics[\"precision\"] > 0.5\n",
    "assert test_metrics[\"recall\"] > 0.6\n",
    "\n",
    "print(\"Solution is correct!\")"
   ]
  },
  {
   "cell_type": "markdown",
   "metadata": {},
   "source": [
    "Wyniki wyglądają już dużo lepiej.\n",
    "\n",
    "Na koniec laboratorium dołożymy do naszego modelu jeszcze 3 powszechnie używane techniki, które są bardzo proste, a pozwalają często ulepszyć wynik modelu.\n",
    "\n",
    "Pierwszą z nich są **warstwy normalizacji (normalization layers)**. Powstały one początkowo z założeniem, że przez przekształcenia przestrzeni dokonywane przez sieć, zmienia się rozkład prawdopodobieństw pomiędzy warstwami, czyli tzw. *internal covariate shift*. Później okazało się, że zastosowanie takiej normalizacji wygładza powierzchnię funkcji kosztu, co ułatwia i przyspiesza optymalizację. Najpowszechniej używaną normalizacją jest **batch normalization (batch norm)**.\n",
    "\n",
    "Drugim ulepszeniem jest dodanie **wag klas (class weights)**. Mamy do czynienia z problemem klasyfikacji niezbalansowanej, więc klasa mniejszościowa, ważniejsza dla nas, powinna dostać większą wagę. Implementuje się to trywialnie prosto - po prostu mnożymy wartość funkcji kosztu dla danego przykładu przez wagę dla prawdziwej klasy tego przykładu. Praktycznie każdy klasyfikator operujący na jakiejś ważonej funkcji może działać w ten sposób, nie tylko sieci neuronowe.\n",
    "\n",
    "Ostatnim ulepszeniem jest zamiana SGD na optymalizator Adam, a konkretnie na optymalizator `AdamW`. Jest to przykład **optymalizatora adaptacyjnego (adaptive optimizer)**, który potrafi zaadaptować stałą uczącą dla każdego parametru z osobna w trakcie treningu. Wykorzystuje do tego gradienty - w uproszczeniu, im większa wariancja gradientu, tym mniejsze kroki w tym kierunku robimy."
   ]
  },
  {
   "cell_type": "markdown",
   "metadata": {
    "tags": [
     "ex"
    ]
   },
   "source": [
    "### Zadanie 8 (0.5 punktu)\n",
    "\n",
    "Zaimplementuj model `NormalizingMLP`, o takiej samej strukturze jak `RegularizedMLP`, ale dodatkowo z warstwami `BatchNorm1d` pomiędzy warstwami `Linear` oraz `ReLU`.\n",
    "\n",
    "Za pomocą funkcji `compute_class_weight()` oblicz wagi dla poszczególnych klas. Użyj opcji `\"balanced\"`. Przekaż do funkcji kosztu wagę klasy pozytywnej (pamiętaj, aby zamienić ją na tensor).\n",
    "\n",
    "Zamień używany optymalizator na `AdamW`.\n",
    "\n",
    "Na koniec skopiuj resztę kodu do treningu z poprzedniego zadania, wytrenuj sieć i oblicz wyniki na zbiorze testowym."
   ]
  },
  {
   "cell_type": "code",
   "execution_count": 45,
   "metadata": {
    "tags": [
     "ex"
    ]
   },
   "outputs": [],
   "source": [
    "class NormalizingMLP(nn.Module):\n",
    "    def __init__(self, input_size: int, dropout_p: float = 0.5):\n",
    "        super().__init__()\n",
    "        # implement me!\n",
    "        # your_code\n",
    "        self.mlp = nn.Sequential(\n",
    "            nn.Linear(input_size, 256),\n",
    "            nn.BatchNorm1d(256),\n",
    "            nn.ReLU(),\n",
    "            nn.Dropout(dropout_p),\n",
    "            nn.Linear(256, 128),\n",
    "            nn.BatchNorm1d(128),\n",
    "            nn.ReLU(),\n",
    "            nn.Dropout(dropout_p),\n",
    "            nn.Linear(128, 1)\n",
    "        )\n",
    "    \n",
    "    def forward(self, x):\n",
    "        return self.mlp(x)\n",
    "\n",
    "    def predict_proba(self, x):\n",
    "        return sigmoid(self(x))\n",
    "    \n",
    "    def predict(self, x, threshold: float = 0.5):\n",
    "        y_pred_score = self.predict_proba(x)\n",
    "        return (y_pred_score > threshold).to(torch.int32)"
   ]
  },
  {
   "cell_type": "code",
   "execution_count": 46,
   "metadata": {
    "tags": [
     "ex"
    ]
   },
   "outputs": [],
   "source": [
    "# define all the hyperparameters\n",
    "# your_code\n",
    "learning_rate = 1e-3\n",
    "dropout_p = 0.5\n",
    "l2_reg = 1e-4\n",
    "batch_size = 128\n",
    "max_epochs = 300\n",
    "\n",
    "early_stopping_patience = 4"
   ]
  },
  {
   "cell_type": "code",
   "execution_count": 55,
   "metadata": {
    "editable": true,
    "lines_to_next_cell": 2,
    "slideshow": {
     "slide_type": ""
    },
    "tags": [
     "ex"
    ]
   },
   "outputs": [
    {
     "name": "stdout",
     "output_type": "stream",
     "text": [
      "Epoch 0 train loss: 0.5618, eval loss 0.4828\n",
      "Epoch 1 train loss: 0.5993, eval loss 0.4769\n",
      "Epoch 2 train loss: 0.5229, eval loss 0.4755\n",
      "Epoch 3 train loss: 0.5565, eval loss 0.4751\n",
      "Epoch 4 train loss: 0.5749, eval loss 0.4735\n",
      "Epoch 5 train loss: 0.5442, eval loss 0.4743\n",
      "Epoch 6 train loss: 0.5027, eval loss 0.4745\n",
      "Epoch 7 train loss: 0.5516, eval loss 0.4730\n",
      "Epoch 8 train loss: 0.4511, eval loss 0.4739\n",
      "Epoch 9 train loss: 0.5004, eval loss 0.4737\n",
      "Epoch 10 train loss: 0.6403, eval loss 0.4745\n",
      "Epoch 11 train loss: 0.5459, eval loss 0.4703\n",
      "Epoch 12 train loss: 0.5573, eval loss 0.4741\n",
      "Epoch 13 train loss: 0.5517, eval loss 0.4765\n",
      "Epoch 14 train loss: 0.4817, eval loss 0.4771\n",
      "Epoch 15 train loss: 0.5379, eval loss 0.4779\n",
      "Epoch 16 train loss: 0.4658, eval loss 0.4788\n",
      "Epoch 17 train loss: 0.4953, eval loss 0.4826\n",
      "Epoch 18 train loss: 0.5093, eval loss 0.4813\n",
      "Epoch 19 train loss: 0.4941, eval loss 0.4806\n",
      "Epoch 20 train loss: 0.4793, eval loss 0.4813\n",
      "Epoch 21 train loss: 0.4788, eval loss 0.4832\n"
     ]
    }
   ],
   "source": [
    "# training loop\n",
    "# your_code\n",
    "from sklearn.utils.class_weight import compute_class_weight\n",
    "\n",
    "model = NormalizingMLP(\n",
    "    input_size=X_train.shape[1], \n",
    "    dropout_p=dropout_p\n",
    ")\n",
    "\n",
    "optimizer = torch.optim.AdamW(\n",
    "    model.parameters(), \n",
    "    lr=learning_rate, \n",
    "    weight_decay=l2_reg\n",
    ")\n",
    "\n",
    "weights = compute_class_weight(class_weight=\"balanced\", classes=np.unique(y), y=y)\n",
    "loss_fn = torch.nn.BCEWithLogitsLoss(pos_weight=torch.from_numpy(weights)[1])\n",
    "\n",
    "train_dataset = MyDataset(X_train, y_train)\n",
    "train_dataloader = DataLoader(train_dataset, batch_size=batch_size)\n",
    "\n",
    "steps_without_improvement = 0\n",
    "\n",
    "best_val_loss = np.inf\n",
    "best_model = None\n",
    "best_threshold = None\n",
    "\n",
    "for epoch_num in range(max_epochs):\n",
    "    model.train()\n",
    "    \n",
    "    # note that we are using DataLoader to get batches\n",
    "    for X_batch, y_batch in train_dataloader:\n",
    "        # model training\n",
    "        # implement me!\n",
    "        # your_code\n",
    "        y_pred = model(X_batch)\n",
    "        loss = loss_fn(y_pred, y_batch)\n",
    "        loss.backward()\n",
    "\n",
    "        optimizer.step()\n",
    "        optimizer.zero_grad()\n",
    "    \n",
    "    # model evaluation, early stopping\n",
    "    # implement me!\n",
    "    # your_code\n",
    "    model.eval()\n",
    "    valid_metrics = evaluate_model(model, X_valid, y_valid, loss_fn)\n",
    "    \n",
    "    if valid_metrics[\"loss\"] < best_val_loss:\n",
    "        steps_without_improvement = 0\n",
    "        best_val_loss = valid_metrics[\"loss\"]\n",
    "        best_model = model\n",
    "        best_threshold = valid_metrics[\"threshold\"]\n",
    "    elif steps_without_improvement == early_stopping_patience:\n",
    "        break\n",
    "    else:\n",
    "        steps_without_improvement += 1\n",
    "    \n",
    "    print(f\"Epoch {epoch_num} train loss: {loss.item():.4f}, eval loss {valid_metrics['loss']:.4f}\")"
   ]
  },
  {
   "cell_type": "code",
   "execution_count": 56,
   "metadata": {
    "editable": true,
    "slideshow": {
     "slide_type": ""
    },
    "tags": [
     "ex"
    ]
   },
   "outputs": [
    {
     "name": "stdout",
     "output_type": "stream",
     "text": [
      "AUROC: 90.71%\n",
      "F1: 69.41%\n",
      "Precision: 64.68%\n",
      "Recall: 74.87%\n"
     ]
    }
   ],
   "source": [
    "test_metrics = evaluate_model(best_model, X_test, y_test, loss_fn, best_threshold)\n",
    "\n",
    "print(f\"AUROC: {test_metrics['AUROC']:.2%}\")\n",
    "print(f\"F1: {test_metrics['F1-score']:.2%}\")\n",
    "print(f\"Precision: {test_metrics['precision']:.2%}\")\n",
    "print(f\"Recall: {test_metrics['recall']:.2%}\")"
   ]
  },
  {
   "cell_type": "code",
   "execution_count": 57,
   "metadata": {
    "tags": [
     "ex"
    ]
   },
   "outputs": [
    {
     "name": "stdout",
     "output_type": "stream",
     "text": [
      "Solution is correct!\n"
     ]
    }
   ],
   "source": [
    "verification_input_size = 143\n",
    "verification_dropout_p = 0.125\n",
    "verification_model = NormalizingMLP(\n",
    "    input_size=verification_input_size,\n",
    "    dropout_p=verification_dropout_p,\n",
    ")\n",
    "\n",
    "assert any(\n",
    "    isinstance(module, nn.Linear) and module.in_features == verification_input_size and module.out_features == 256\n",
    "    for module in verification_model.modules()\n",
    ")\n",
    "\n",
    "assert any(\n",
    "    isinstance(module, nn.Linear) and module.in_features == 256 and module.out_features == 128\n",
    "    for module in verification_model.modules()\n",
    ")\n",
    "\n",
    "assert any(\n",
    "    isinstance(module, nn.Linear) and module.in_features == 128 and module.out_features == 1\n",
    "    for module in verification_model.modules()\n",
    ")\n",
    "\n",
    "assert any(isinstance(module, nn.Dropout) and module.p == verification_dropout_p for module in verification_model.modules())\n",
    "assert any(isinstance(module, nn.ReLU) for module in verification_model.modules())\n",
    "\n",
    "assert any(isinstance(module, nn.BatchNorm1d) for module in verification_model.modules())\n",
    "\n",
    "assert test_metrics[\"AUROC\"] > 0.8\n",
    "assert test_metrics[\"F1-score\"] > 0.6\n",
    "assert test_metrics[\"precision\"] > 0.5\n",
    "assert test_metrics[\"recall\"] > 0.6\n",
    "\n",
    "print(\"Solution is correct!\")"
   ]
  },
  {
   "cell_type": "markdown",
   "metadata": {
    "editable": true,
    "id": "XyoRnHT4GFR9",
    "slideshow": {
     "slide_type": ""
    },
    "tags": []
   },
   "source": [
    "## Akceleracja sprzętowa (dla zainteresowanych)"
   ]
  },
  {
   "cell_type": "markdown",
   "metadata": {},
   "source": [
    "Jak wcześniej wspominaliśmy, użycie akceleracji sprzętowej, czyli po prostu GPU do obliczeń, jest bardzo efektywne w przypadku sieci neuronowych. Karty graficzne bardzo efektywnie mnożą macierze, a sieci neuronowe to, jak można było się przekonać, dużo mnożenia macierzy.\n",
    "\n",
    "W PyTorchu jest to dosyć łatwe, ale trzeba robić to explicite. Służy do tego metoda `.to()`, która przenosi tensory między CPU i GPU. Poniżej przykład, jak to się robi (oczywiście trzeba mieć skonfigurowane GPU, żeby działało):"
   ]
  },
  {
   "cell_type": "code",
   "execution_count": 58,
   "metadata": {},
   "outputs": [
    {
     "name": "stdout",
     "output_type": "stream",
     "text": [
      "Epoch 0 train loss: 0.9329, time: 0.01099848747253418\n",
      "Epoch 1 train loss: 0.4356, time: 1.0835700035095215\n",
      "Epoch 2 train loss: 0.4757, time: 1.052093505859375\n",
      "Epoch 3 train loss: 0.4392, time: 1.079322099685669\n",
      "Epoch 4 train loss: 0.5648, time: 1.0369653701782227\n",
      "Epoch 6 train loss: 0.3300, time: 1.0362486839294434\n",
      "Epoch 7 train loss: 0.4058, time: 1.0745813846588135\n",
      "Epoch 8 train loss: 0.4681, time: 1.0979986190795898\n",
      "Epoch 9 train loss: 0.4522, time: 1.1110382080078125\n",
      "Epoch 11 train loss: 0.4464, time: 1.1797945499420166\n",
      "Epoch 12 train loss: 0.3781, time: 1.3319969177246094\n",
      "Epoch 13 train loss: 0.4869, time: 1.0970008373260498\n",
      "Epoch 14 train loss: 0.3522, time: 1.0149927139282227\n",
      "Epoch 15 train loss: 0.4523, time: 1.0590026378631592\n",
      "Epoch 17 train loss: 0.3494, time: 1.0067100524902344\n",
      "Epoch 18 train loss: 0.4549, time: 1.0354125499725342\n",
      "Epoch 19 train loss: 0.5030, time: 1.0406441688537598\n",
      "Epoch 20 train loss: 0.4013, time: 0.9839632511138916\n",
      "Epoch 22 train loss: 0.5005, time: 0.9959993362426758\n",
      "Epoch 23 train loss: 0.4750, time: 1.0450363159179688\n",
      "Epoch 24 train loss: 0.3686, time: 1.0259950160980225\n",
      "Epoch 25 train loss: 0.4137, time: 0.9989709854125977\n",
      "Epoch 26 train loss: 0.4888, time: 0.987999677658081\n",
      "Epoch 28 train loss: 0.6209, time: 0.9979796409606934\n",
      "Epoch 29 train loss: 0.4960, time: 1.266430377960205\n",
      "AUROC: 90.38%\n",
      "F1: 67.09%\n",
      "{'loss': 0.5107218623161316, 'AUROC': np.float64(0.9038239512185057), 'threshold': 0.5, 'precision': np.float64(0.7061310782241015), 'recall': np.float64(0.639030612244898), 'F1-score': np.float64(0.6709072648141949)}\n"
     ]
    }
   ],
   "source": [
    "import time\n",
    "\n",
    "class CudaMLP(nn.Module):\n",
    "    def __init__(self, input_size: int, dropout_p: float = 0.5):\n",
    "        super().__init__()\n",
    "        self.mlp = nn.Sequential(\n",
    "            nn.Linear(input_size, 512),\n",
    "            nn.BatchNorm1d(512),\n",
    "            nn.ReLU(),\n",
    "            nn.Dropout(dropout_p),\n",
    "            nn.Linear(512, 256),\n",
    "            nn.BatchNorm1d(256),\n",
    "            nn.ReLU(),\n",
    "            nn.Dropout(dropout_p),\n",
    "            nn.Linear(256, 256),\n",
    "            nn.BatchNorm1d(256),\n",
    "            nn.ReLU(),\n",
    "            nn.Dropout(dropout_p),\n",
    "            nn.Linear(256, 128),\n",
    "            nn.BatchNorm1d(128),\n",
    "            nn.ReLU(),\n",
    "            nn.Dropout(dropout_p),\n",
    "            nn.Linear(128, 1),\n",
    "        )\n",
    "    \n",
    "    def forward(self, x):\n",
    "        return self.mlp(x)\n",
    "\n",
    "    def predict_proba(self, x):\n",
    "        return sigmoid(self(x))\n",
    "    \n",
    "    def predict(self, x, threshold: float = 0.5):\n",
    "        y_pred_score = self.predict_proba(x)\n",
    "        return (y_pred_score > threshold).to(torch.int32)\n",
    "\n",
    "model = CudaMLP(X_train.shape[1]).to('cuda')\n",
    "optimizer = torch.optim.AdamW(model.parameters(), lr=learning_rate, weight_decay=1e-4)\n",
    "\n",
    "# note that we are using loss function with sigmoid built in\n",
    "loss_fn = torch.nn.BCEWithLogitsLoss(pos_weight=torch.from_numpy(weights)[1].to('cuda'))\n",
    "\n",
    "step_counter = 0\n",
    "time_from_eval = time.time()\n",
    "\n",
    "for epoch_id in range(30):\n",
    "    for batch_x, batch_y in train_dataloader:\n",
    "        batch_x = batch_x.to('cuda')\n",
    "        batch_y = batch_y.to('cuda')\n",
    "        \n",
    "        loss = loss_fn(model(batch_x), batch_y)\n",
    "        loss.backward()\n",
    "\n",
    "        optimizer.step()\n",
    "        optimizer.zero_grad()\n",
    "        \n",
    "        if step_counter % evaluation_steps == 0:\n",
    "            print(f\"Epoch {epoch_id} train loss: {loss.item():.4f}, time: {time.time() - time_from_eval}\")\n",
    "            time_from_eval = time.time()\n",
    "\n",
    "        step_counter += 1\n",
    "\n",
    "test_res = evaluate_model(model.to('cpu'), X_test, y_test, loss_fn.to('cpu'), threshold=0.5)\n",
    "\n",
    "print(f\"AUROC: {test_res['AUROC']:.2%}\")\n",
    "print(f\"F1: {test_res['F1-score']:.2%}\")\n",
    "print(test_res)"
   ]
  },
  {
   "cell_type": "markdown",
   "metadata": {},
   "source": [
    "Co prawda ten model nie będzie tak dobry, jak ten z laboratorium, ale zwróć uwagę, o ile jest większy, a przy tym szybszy.\n",
    "\n",
    "Dla zainteresowanych polecamy [tę serię artykułów](https://medium.com/@adi.fu7/ai-accelerators-part-i-intro-822c2cdb4ca4)."
   ]
  },
  {
   "cell_type": "markdown",
   "metadata": {
    "tags": [
     "ex"
    ]
   },
   "source": [
    "## Zadanie dla chętnych"
   ]
  },
  {
   "cell_type": "markdown",
   "metadata": {
    "tags": [
     "ex"
    ]
   },
   "source": [
    "Jak widzieliśmy, sieci neuronowe mają bardzo dużo hiperparametrów. Przeszukiwanie ich grid search'em jest więc niewykonalne, a chociaż random search by działał, to potrzebowałby wielu iteracji, co też jest kosztowne obliczeniowo.\n",
    "\n",
    "Zaimplementuj inteligentne przeszukiwanie przestrzeni hiperparametrów za pomocą biblioteki [Optuna](https://optuna.org/). Implementuje ona między innymi algorytm Tree Parzen Estimator (TPE), należący do grupy algorytmów typu Bayesian search. Typowo osiągają one bardzo dobre wyniki, a właściwie zawsze lepsze od przeszukiwania losowego. Do tego wystarcza im często niewielka liczba kroków.\n",
    "\n",
    "Zaimplementuj 3-warstwową sieć MLP, gdzie pierwsza warstwa ma rozmiar ukryty N, a druga N // 2. Ucz ją optymalizatorem Adam przez maksymalnie 300 epok z cierpliwością 10.\n",
    "\n",
    "Przeszukaj wybrane zakresy dla hiperparametrów:\n",
    "- rozmiar warstw ukrytych (N)\n",
    "- stała ucząca\n",
    "- batch size\n",
    "- siła regularyzacji L2\n",
    "- prawdopodobieństwo dropoutu\n",
    "\n",
    "Wykorzystaj przynajmniej 30 iteracji. Następnie przełącz algorytm na losowy (Optuna także jego implementuje), wykonaj 30 iteracji i porównaj jakość wyników.\n",
    "\n",
    "Przydatne materiały:\n",
    "- [Optuna code examples - PyTorch](https://optuna.org/#code_examples)\n",
    "- [Auto-Tuning Hyperparameters with Optuna and PyTorch](https://www.youtube.com/watch?v=P6NwZVl8ttc)\n",
    "- [Hyperparameter Tuning of Neural Networks with Optuna and PyTorch](https://towardsdatascience.com/hyperparameter-tuning-of-neural-networks-with-optuna-and-pytorch-22e179efc837)\n",
    "- [Using Optuna to Optimize PyTorch Hyperparameters](https://medium.com/pytorch/using-optuna-to-optimize-pytorch-hyperparameters-990607385e36)"
   ]
  },
  {
   "cell_type": "code",
   "execution_count": 59,
   "metadata": {
    "tags": [
     "ex"
    ]
   },
   "outputs": [],
   "source": [
    "class OptimizedMLP(nn.Module):\n",
    "    def __init__(self, input_size: int, hidden_layer_size: int, dropout_p: float):\n",
    "        super().__init__()\n",
    "        # implement me!\n",
    "        # your_code\n",
    "        self.mlp = nn.Sequential(\n",
    "            nn.Linear(input_size, hidden_layer_size),\n",
    "            nn.BatchNorm1d(hidden_layer_size),\n",
    "            nn.ReLU(),\n",
    "            nn.Dropout(dropout_p),\n",
    "            nn.Linear(hidden_layer_size, hidden_layer_size // 2),\n",
    "            nn.BatchNorm1d(hidden_layer_size // 2),\n",
    "            nn.ReLU(),\n",
    "            nn.Dropout(dropout_p),\n",
    "            nn.Linear(hidden_layer_size // 2, 1)\n",
    "        )\n",
    "    \n",
    "    def forward(self, x):\n",
    "        return self.mlp(x)\n",
    "\n",
    "    def predict_proba(self, x):\n",
    "        return sigmoid(self(x))\n",
    "    \n",
    "    def predict(self, x, threshold: float = 0.5):\n",
    "        y_pred_score = self.predict_proba(x)\n",
    "        return (y_pred_score > threshold).to(torch.int32)"
   ]
  },
  {
   "cell_type": "code",
   "execution_count": 60,
   "metadata": {
    "tags": [
     "ex"
    ]
   },
   "outputs": [],
   "source": [
    "max_epochs = 300\n",
    "early_stopping_patience = 10"
   ]
  },
  {
   "cell_type": "code",
   "execution_count": 61,
   "metadata": {
    "tags": [
     "ex"
    ]
   },
   "outputs": [],
   "source": [
    "def objective(trial):\n",
    "    layer_size = trial.suggest_int(\"layer_size\", 50, 400)\n",
    "    learning_rate = trial.suggest_float(\"learning_rate\", 1e-4, 1e-2, log=True)\n",
    "    batch_size = trial.suggest_int(\"batch_size\", 60, 200)\n",
    "    l2_reg = trial.suggest_float(\"l2_reg\", 1e-5, 1e-3, log=True)\n",
    "    dropout_p = trial.suggest_float(\"dropout_p\", 0.35, 0.55)\n",
    "\n",
    "    model = OptimizedMLP(X_train.shape[1], layer_size, dropout_p)\n",
    "    optimizer = torch.optim.Adam(model.parameters(), lr=learning_rate, weight_decay=l2_reg)\n",
    "\n",
    "    loss_fn = torch.nn.BCEWithLogitsLoss(pos_weight=torch.from_numpy(weights)[1])\n",
    "\n",
    "    train_dataset = MyDataset(X_train, y_train)\n",
    "    train_dataloader = DataLoader(train_dataset, batch_size=batch_size)\n",
    "\n",
    "    steps_without_improvement = 0\n",
    "\n",
    "    best_val_loss = np.inf\n",
    "    best_model = None\n",
    "    best_threshold = None\n",
    "\n",
    "    for epoch_num in range(max_epochs):\n",
    "        model.train()\n",
    "\n",
    "        # note that we are using DataLoader to get batches\n",
    "        for X_batch, y_batch in train_dataloader:\n",
    "            # model training\n",
    "            y_pred = model(X_batch)\n",
    "            loss = loss_fn(y_pred, y_batch)\n",
    "            loss.backward()\n",
    "\n",
    "            optimizer.step()\n",
    "            optimizer.zero_grad()\n",
    "\n",
    "        # model evaluation, early stopping\n",
    "        model.eval()\n",
    "        valid_metrics = evaluate_model(model, X_valid, y_valid, loss_fn)\n",
    "\n",
    "        if valid_metrics[\"loss\"] < best_val_loss:\n",
    "            steps_without_improvement = 0\n",
    "            best_val_loss = valid_metrics[\"loss\"]\n",
    "            best_model = model\n",
    "            best_threshold = valid_metrics[\"threshold\"]\n",
    "        elif steps_without_improvement == early_stopping_patience:\n",
    "            break\n",
    "        else:\n",
    "            steps_without_improvement += 1\n",
    "\n",
    "    model.eval()\n",
    "    valid_metrics = evaluate_model(model, X_valid, y_valid, loss_fn)\n",
    "    \n",
    "    # minimalizuję funkcję kosztu\n",
    "    return valid_metrics[\"loss\"]"
   ]
  },
  {
   "cell_type": "code",
   "execution_count": 63,
   "metadata": {
    "tags": [
     "ex"
    ]
   },
   "outputs": [
    {
     "name": "stderr",
     "output_type": "stream",
     "text": [
      "[I 2024-11-20 11:25:09,401] A new study created in memory with name: no-name-a1f39ef3-9953-4457-b568-786f0932778f\n",
      "[I 2024-11-20 11:25:24,772] Trial 0 finished with value: 0.4731009006500244 and parameters: {'layer_size': 140, 'learning_rate': 0.00047268561265205656, 'batch_size': 114, 'l2_reg': 0.0001340105580416605, 'dropout_p': 0.44874990007618687}. Best is trial 0 with value: 0.4731009006500244.\n",
      "[I 2024-11-20 11:25:37,328] Trial 1 finished with value: 0.47566094994544983 and parameters: {'layer_size': 379, 'learning_rate': 0.0004311273727270672, 'batch_size': 159, 'l2_reg': 0.0006985341847058555, 'dropout_p': 0.41851398506019183}. Best is trial 0 with value: 0.4731009006500244.\n",
      "[I 2024-11-20 11:26:09,410] Trial 2 finished with value: 0.47344350814819336 and parameters: {'layer_size': 333, 'learning_rate': 0.00011865969175179071, 'batch_size': 68, 'l2_reg': 3.0443852413445645e-05, 'dropout_p': 0.44401584373724573}. Best is trial 0 with value: 0.4731009006500244.\n",
      "[I 2024-11-20 11:26:30,409] Trial 3 finished with value: 0.47115957736968994 and parameters: {'layer_size': 243, 'learning_rate': 0.0002072944391423108, 'batch_size': 152, 'l2_reg': 0.0008645926623397213, 'dropout_p': 0.4942701659245385}. Best is trial 3 with value: 0.47115957736968994.\n",
      "[I 2024-11-20 11:26:43,264] Trial 4 finished with value: 0.4751385748386383 and parameters: {'layer_size': 335, 'learning_rate': 0.0006778719043975404, 'batch_size': 172, 'l2_reg': 2.8542989659096873e-05, 'dropout_p': 0.5328962643635622}. Best is trial 3 with value: 0.47115957736968994.\n",
      "[I 2024-11-20 11:27:06,001] Trial 5 finished with value: 0.4708520472049713 and parameters: {'layer_size': 246, 'learning_rate': 0.0001447531274313104, 'batch_size': 199, 'l2_reg': 1.1516173664243277e-05, 'dropout_p': 0.4672540743222182}. Best is trial 5 with value: 0.4708520472049713.\n",
      "[I 2024-11-20 11:27:26,805] Trial 6 finished with value: 0.48617780208587646 and parameters: {'layer_size': 55, 'learning_rate': 0.0021943794470830483, 'batch_size': 84, 'l2_reg': 1.3861262250810364e-05, 'dropout_p': 0.527011820538771}. Best is trial 5 with value: 0.4708520472049713.\n",
      "[I 2024-11-20 11:27:37,956] Trial 7 finished with value: 0.47361645102500916 and parameters: {'layer_size': 154, 'learning_rate': 0.0024772024299183925, 'batch_size': 197, 'l2_reg': 0.0006539315808562955, 'dropout_p': 0.511583775011197}. Best is trial 5 with value: 0.4708520472049713.\n",
      "[I 2024-11-20 11:28:03,763] Trial 8 finished with value: 0.4773695766925812 and parameters: {'layer_size': 229, 'learning_rate': 0.006544088164216785, 'batch_size': 68, 'l2_reg': 0.00019203688300136878, 'dropout_p': 0.43795321745568333}. Best is trial 5 with value: 0.4708520472049713.\n",
      "[I 2024-11-20 11:28:15,157] Trial 9 finished with value: 0.47645851969718933 and parameters: {'layer_size': 246, 'learning_rate': 0.0010275528197685058, 'batch_size': 128, 'l2_reg': 4.1712991616568964e-05, 'dropout_p': 0.5432427686255406}. Best is trial 5 with value: 0.4708520472049713.\n",
      "[I 2024-11-20 11:28:36,420] Trial 10 finished with value: 0.4698421061038971 and parameters: {'layer_size': 163, 'learning_rate': 0.00010899951667927166, 'batch_size': 200, 'l2_reg': 1.1040104021823308e-05, 'dropout_p': 0.3570477006524786}. Best is trial 10 with value: 0.4698421061038971.\n",
      "[I 2024-11-20 11:29:05,303] Trial 11 finished with value: 0.4712145924568176 and parameters: {'layer_size': 151, 'learning_rate': 0.00010276600031137812, 'batch_size': 193, 'l2_reg': 1.1263244377931752e-05, 'dropout_p': 0.3649333424412531}. Best is trial 10 with value: 0.4698421061038971.\n",
      "[I 2024-11-20 11:29:18,724] Trial 12 finished with value: 0.47418853640556335 and parameters: {'layer_size': 178, 'learning_rate': 0.000260629367454744, 'batch_size': 200, 'l2_reg': 1.0782747367126512e-05, 'dropout_p': 0.3565768456884264}. Best is trial 10 with value: 0.4698421061038971.\n",
      "[I 2024-11-20 11:29:38,059] Trial 13 finished with value: 0.4701644778251648 and parameters: {'layer_size': 79, 'learning_rate': 0.0002082475931840083, 'batch_size': 177, 'l2_reg': 6.882815945322107e-05, 'dropout_p': 0.3970299817082037}. Best is trial 10 with value: 0.4698421061038971.\n",
      "[I 2024-11-20 11:30:05,405] Trial 14 finished with value: 0.4745902419090271 and parameters: {'layer_size': 60, 'learning_rate': 0.0002710135515691685, 'batch_size': 172, 'l2_reg': 6.68980002475541e-05, 'dropout_p': 0.39307663818928}. Best is trial 10 with value: 0.4698421061038971.\n",
      "[I 2024-11-20 11:30:22,228] Trial 15 finished with value: 0.48243799805641174 and parameters: {'layer_size': 94, 'learning_rate': 0.0013496214945987362, 'batch_size': 177, 'l2_reg': 0.00026721077873390645, 'dropout_p': 0.39004197442590555}. Best is trial 10 with value: 0.4698421061038971.\n",
      "[I 2024-11-20 11:30:44,736] Trial 16 finished with value: 0.4711499810218811 and parameters: {'layer_size': 102, 'learning_rate': 0.00018588039222992226, 'batch_size': 145, 'l2_reg': 7.212533109778415e-05, 'dropout_p': 0.38942781204520416}. Best is trial 10 with value: 0.4698421061038971.\n",
      "[I 2024-11-20 11:30:58,339] Trial 17 finished with value: 0.4757785201072693 and parameters: {'layer_size': 191, 'learning_rate': 0.0004450706730388514, 'batch_size': 181, 'l2_reg': 0.0003988375996969941, 'dropout_p': 0.41505517286475524}. Best is trial 10 with value: 0.4698421061038971.\n",
      "[I 2024-11-20 11:31:12,580] Trial 18 finished with value: 0.48749348521232605 and parameters: {'layer_size': 110, 'learning_rate': 0.00941523534319717, 'batch_size': 102, 'l2_reg': 1.8509748555832057e-05, 'dropout_p': 0.3724157912473872}. Best is trial 10 with value: 0.4698421061038971.\n",
      "[I 2024-11-20 11:31:25,983] Trial 19 finished with value: 0.47236013412475586 and parameters: {'layer_size': 300, 'learning_rate': 0.00029186489391674496, 'batch_size': 140, 'l2_reg': 9.672774738609767e-05, 'dropout_p': 0.4126755038850057}. Best is trial 10 with value: 0.4698421061038971.\n",
      "[I 2024-11-20 11:31:43,558] Trial 20 finished with value: 0.4709743559360504 and parameters: {'layer_size': 193, 'learning_rate': 0.00015240499330718664, 'batch_size': 184, 'l2_reg': 4.919625993101909e-05, 'dropout_p': 0.37722516639837284}. Best is trial 10 with value: 0.4698421061038971.\n",
      "[I 2024-11-20 11:32:10,647] Trial 21 finished with value: 0.4687120318412781 and parameters: {'layer_size': 283, 'learning_rate': 0.000105391786627585, 'batch_size': 163, 'l2_reg': 2.070988097815655e-05, 'dropout_p': 0.49813075148109676}. Best is trial 21 with value: 0.4687120318412781.\n",
      "[I 2024-11-20 11:32:36,336] Trial 22 finished with value: 0.4703466594219208 and parameters: {'layer_size': 283, 'learning_rate': 0.00011957130349664338, 'batch_size': 163, 'l2_reg': 2.071329856756507e-05, 'dropout_p': 0.4832922489088097}. Best is trial 21 with value: 0.4687120318412781.\n",
      "[I 2024-11-20 11:32:59,602] Trial 23 finished with value: 0.4688764810562134 and parameters: {'layer_size': 274, 'learning_rate': 0.00010303807884558211, 'batch_size': 166, 'l2_reg': 2.057031325310224e-05, 'dropout_p': 0.4740467280251159}. Best is trial 21 with value: 0.4687120318412781.\n",
      "[I 2024-11-20 11:33:35,072] Trial 24 finished with value: 0.4700334072113037 and parameters: {'layer_size': 289, 'learning_rate': 0.00010021550691714806, 'batch_size': 129, 'l2_reg': 1.9993003085420818e-05, 'dropout_p': 0.47470303605169256}. Best is trial 21 with value: 0.4687120318412781.\n",
      "[I 2024-11-20 11:33:48,520] Trial 25 finished with value: 0.47476476430892944 and parameters: {'layer_size': 269, 'learning_rate': 0.0003308541122560061, 'batch_size': 161, 'l2_reg': 3.1148767006472055e-05, 'dropout_p': 0.5038937405303059}. Best is trial 21 with value: 0.4687120318412781.\n",
      "[I 2024-11-20 11:34:06,184] Trial 26 finished with value: 0.4680419862270355 and parameters: {'layer_size': 329, 'learning_rate': 0.0001683091748220402, 'batch_size': 188, 'l2_reg': 1.5850889693307734e-05, 'dropout_p': 0.4627892203874441}. Best is trial 26 with value: 0.4680419862270355.\n",
      "[I 2024-11-20 11:34:26,969] Trial 27 finished with value: 0.46887779235839844 and parameters: {'layer_size': 337, 'learning_rate': 0.00016646902605357787, 'batch_size': 140, 'l2_reg': 1.5995961663089823e-05, 'dropout_p': 0.46277591431127496}. Best is trial 26 with value: 0.4680419862270355.\n",
      "[I 2024-11-20 11:34:46,885] Trial 28 finished with value: 0.46864569187164307 and parameters: {'layer_size': 392, 'learning_rate': 0.00015810252730214547, 'batch_size': 188, 'l2_reg': 2.529014939357778e-05, 'dropout_p': 0.48056061332944433}. Best is trial 26 with value: 0.4680419862270355.\n",
      "[I 2024-11-20 11:34:58,336] Trial 29 finished with value: 0.4815509021282196 and parameters: {'layer_size': 400, 'learning_rate': 0.0006789511538785319, 'batch_size': 186, 'l2_reg': 4.030636111835243e-05, 'dropout_p': 0.4936511041852434}. Best is trial 26 with value: 0.4680419862270355.\n"
     ]
    },
    {
     "name": "stdout",
     "output_type": "stream",
     "text": [
      "Best trial:\n",
      "Loss: 0.468\n",
      "Optimal parameters values:\n",
      "layer_size: 329\n",
      "learning_rate: 0.0001683091748220402\n",
      "batch_size: 188\n",
      "l2_reg: 1.5850889693307734e-05\n",
      "dropout_p: 0.4627892203874441\n"
     ]
    }
   ],
   "source": [
    "import optuna\n",
    "\n",
    "study = optuna.create_study(direction=\"minimize\")\n",
    "study.optimize(objective, n_trials=30)\n",
    "\n",
    "print(\"Best trial:\")\n",
    "trial = study.best_trial\n",
    "print(f\"Loss: {trial.value:.4}\")\n",
    "\n",
    "print(\"Optimal parameters values:\")\n",
    "for key, value in trial.params.items():\n",
    "    print(\"{}: {}\".format(key, value))"
   ]
  },
  {
   "cell_type": "code",
   "execution_count": 64,
   "metadata": {
    "tags": [
     "ex"
    ]
   },
   "outputs": [
    {
     "name": "stderr",
     "output_type": "stream",
     "text": [
      "[I 2024-11-20 11:34:58,363] A new study created in memory with name: no-name-b7b87b82-1d47-473a-a369-bc9472d34835\n",
      "[I 2024-11-20 11:35:12,933] Trial 0 finished with value: 0.47826844453811646 and parameters: {'layer_size': 373, 'learning_rate': 0.0015215848582865307, 'batch_size': 149, 'l2_reg': 0.0006262613582572762, 'dropout_p': 0.4101249483983712}. Best is trial 0 with value: 0.47826844453811646.\n",
      "[I 2024-11-20 11:35:23,285] Trial 1 finished with value: 0.4878747761249542 and parameters: {'layer_size': 227, 'learning_rate': 0.003809971963744811, 'batch_size': 113, 'l2_reg': 3.0511160758539838e-05, 'dropout_p': 0.5073866850130986}. Best is trial 0 with value: 0.47826844453811646.\n",
      "[I 2024-11-20 11:35:40,099] Trial 2 finished with value: 0.4746986925601959 and parameters: {'layer_size': 81, 'learning_rate': 0.00032681965257571797, 'batch_size': 116, 'l2_reg': 0.00011325179989517873, 'dropout_p': 0.3518206806010988}. Best is trial 2 with value: 0.4746986925601959.\n",
      "[I 2024-11-20 11:35:51,991] Trial 3 finished with value: 0.4873298108577728 and parameters: {'layer_size': 65, 'learning_rate': 0.003281891975573254, 'batch_size': 108, 'l2_reg': 1.560289683447864e-05, 'dropout_p': 0.49605249070510515}. Best is trial 2 with value: 0.4746986925601959.\n",
      "[I 2024-11-20 11:36:05,446] Trial 4 finished with value: 0.47375646233558655 and parameters: {'layer_size': 259, 'learning_rate': 0.00038161947015789805, 'batch_size': 186, 'l2_reg': 0.00010851522397504188, 'dropout_p': 0.5114719921465549}. Best is trial 4 with value: 0.47375646233558655.\n",
      "[I 2024-11-20 11:36:22,130] Trial 5 finished with value: 0.4751307964324951 and parameters: {'layer_size': 169, 'learning_rate': 0.00027778191454588407, 'batch_size': 172, 'l2_reg': 4.77066888140685e-05, 'dropout_p': 0.42548972219626685}. Best is trial 4 with value: 0.47375646233558655.\n",
      "[I 2024-11-20 11:36:48,830] Trial 6 finished with value: 0.4770407974720001 and parameters: {'layer_size': 335, 'learning_rate': 0.004569870241664074, 'batch_size': 60, 'l2_reg': 0.00016755175932989605, 'dropout_p': 0.3721147645164334}. Best is trial 4 with value: 0.47375646233558655.\n",
      "[I 2024-11-20 11:37:04,658] Trial 7 finished with value: 0.4724379777908325 and parameters: {'layer_size': 356, 'learning_rate': 0.00026337801542851696, 'batch_size': 199, 'l2_reg': 0.00027412537468463695, 'dropout_p': 0.3752498538507332}. Best is trial 7 with value: 0.4724379777908325.\n",
      "[I 2024-11-20 11:37:15,671] Trial 8 finished with value: 0.48833829164505005 and parameters: {'layer_size': 116, 'learning_rate': 0.004112416621265082, 'batch_size': 154, 'l2_reg': 1.5767542920001457e-05, 'dropout_p': 0.4737669987631553}. Best is trial 7 with value: 0.4724379777908325.\n",
      "[I 2024-11-20 11:37:44,872] Trial 9 finished with value: 0.4670361280441284 and parameters: {'layer_size': 370, 'learning_rate': 0.00010025466554823316, 'batch_size': 138, 'l2_reg': 0.0005110293674376818, 'dropout_p': 0.39914701690354404}. Best is trial 9 with value: 0.4670361280441284.\n",
      "[I 2024-11-20 11:38:00,299] Trial 10 finished with value: 0.47985363006591797 and parameters: {'layer_size': 132, 'learning_rate': 0.00046556371075356137, 'batch_size': 124, 'l2_reg': 0.0003994721188742761, 'dropout_p': 0.3945606076225725}. Best is trial 9 with value: 0.4670361280441284.\n",
      "[I 2024-11-20 11:38:30,027] Trial 11 finished with value: 0.4751182794570923 and parameters: {'layer_size': 316, 'learning_rate': 0.00011195651611288035, 'batch_size': 65, 'l2_reg': 0.0005059362502700673, 'dropout_p': 0.43413365853202435}. Best is trial 9 with value: 0.4670361280441284.\n",
      "[I 2024-11-20 11:38:43,114] Trial 12 finished with value: 0.4697647988796234 and parameters: {'layer_size': 269, 'learning_rate': 0.00018858252537868968, 'batch_size': 189, 'l2_reg': 3.7166427970090176e-05, 'dropout_p': 0.399526887573931}. Best is trial 9 with value: 0.4670361280441284.\n",
      "[I 2024-11-20 11:38:55,934] Trial 13 finished with value: 0.4729843735694885 and parameters: {'layer_size': 159, 'learning_rate': 0.0004907375250517942, 'batch_size': 198, 'l2_reg': 0.00023606823998834127, 'dropout_p': 0.5219270647393521}. Best is trial 9 with value: 0.4670361280441284.\n",
      "[I 2024-11-20 11:39:19,933] Trial 14 finished with value: 0.4724540412425995 and parameters: {'layer_size': 273, 'learning_rate': 0.0001238016490344675, 'batch_size': 87, 'l2_reg': 0.00012583750657200606, 'dropout_p': 0.3951725090395415}. Best is trial 9 with value: 0.4670361280441284.\n",
      "[I 2024-11-20 11:39:33,239] Trial 15 finished with value: 0.4846237301826477 and parameters: {'layer_size': 361, 'learning_rate': 0.00382477635845765, 'batch_size': 95, 'l2_reg': 7.44807357179881e-05, 'dropout_p': 0.384259985892886}. Best is trial 9 with value: 0.4670361280441284.\n",
      "[I 2024-11-20 11:39:49,182] Trial 16 finished with value: 0.4801243245601654 and parameters: {'layer_size': 119, 'learning_rate': 0.0007646285375101045, 'batch_size': 74, 'l2_reg': 0.0007011820952592007, 'dropout_p': 0.5157659022528435}. Best is trial 9 with value: 0.4670361280441284.\n",
      "[I 2024-11-20 11:39:58,772] Trial 17 finished with value: 0.48091599345207214 and parameters: {'layer_size': 142, 'learning_rate': 0.008809254334671324, 'batch_size': 144, 'l2_reg': 0.0008482684337484013, 'dropout_p': 0.5471895635444375}. Best is trial 9 with value: 0.4670361280441284.\n",
      "[I 2024-11-20 11:40:21,976] Trial 18 finished with value: 0.47250813245773315 and parameters: {'layer_size': 372, 'learning_rate': 0.00020874430803005566, 'batch_size': 131, 'l2_reg': 6.392831693454263e-05, 'dropout_p': 0.5358276040591806}. Best is trial 9 with value: 0.4670361280441284.\n",
      "[I 2024-11-20 11:40:33,756] Trial 19 finished with value: 0.47629421949386597 and parameters: {'layer_size': 383, 'learning_rate': 0.0011773120110915446, 'batch_size': 173, 'l2_reg': 0.0004867932140757541, 'dropout_p': 0.5163958209822619}. Best is trial 9 with value: 0.4670361280441284.\n",
      "[I 2024-11-20 11:40:59,412] Trial 20 finished with value: 0.479722797870636 and parameters: {'layer_size': 218, 'learning_rate': 0.006134329077284328, 'batch_size': 118, 'l2_reg': 0.00028418957429181133, 'dropout_p': 0.4208997934438607}. Best is trial 9 with value: 0.4670361280441284.\n",
      "[I 2024-11-20 11:41:15,171] Trial 21 finished with value: 0.47541409730911255 and parameters: {'layer_size': 104, 'learning_rate': 0.0075377928818271935, 'batch_size': 94, 'l2_reg': 0.00022188100087194962, 'dropout_p': 0.43340181814135503}. Best is trial 9 with value: 0.4670361280441284.\n",
      "[I 2024-11-20 11:41:30,356] Trial 22 finished with value: 0.505772054195404 and parameters: {'layer_size': 387, 'learning_rate': 0.0033455038467498743, 'batch_size': 84, 'l2_reg': 1.781016828385184e-05, 'dropout_p': 0.36615758197902015}. Best is trial 9 with value: 0.4670361280441284.\n",
      "[I 2024-11-20 11:41:39,486] Trial 23 finished with value: 0.48761188983917236 and parameters: {'layer_size': 96, 'learning_rate': 0.001992818989775256, 'batch_size': 117, 'l2_reg': 3.2947340671655255e-05, 'dropout_p': 0.43251609480968584}. Best is trial 9 with value: 0.4670361280441284.\n",
      "[I 2024-11-20 11:41:51,496] Trial 24 finished with value: 0.48468825221061707 and parameters: {'layer_size': 387, 'learning_rate': 0.0035527611025143154, 'batch_size': 170, 'l2_reg': 6.495381928198455e-05, 'dropout_p': 0.45780246209837955}. Best is trial 9 with value: 0.4670361280441284.\n",
      "[I 2024-11-20 11:41:59,364] Trial 25 finished with value: 0.4816998541355133 and parameters: {'layer_size': 211, 'learning_rate': 0.0024045967647718324, 'batch_size': 199, 'l2_reg': 0.00014506559594829185, 'dropout_p': 0.3852994456502054}. Best is trial 9 with value: 0.4670361280441284.\n",
      "[I 2024-11-20 11:42:25,592] Trial 26 finished with value: 0.4860175848007202 and parameters: {'layer_size': 129, 'learning_rate': 0.0014752793153473935, 'batch_size': 92, 'l2_reg': 0.000955755910345936, 'dropout_p': 0.5324138742313048}. Best is trial 9 with value: 0.4670361280441284.\n",
      "[I 2024-11-20 11:42:36,315] Trial 27 finished with value: 0.4760960638523102 and parameters: {'layer_size': 138, 'learning_rate': 0.005114951744680092, 'batch_size': 121, 'l2_reg': 6.403291842835988e-05, 'dropout_p': 0.45541393877296}. Best is trial 9 with value: 0.4670361280441284.\n",
      "[I 2024-11-20 11:42:47,300] Trial 28 finished with value: 0.4771844148635864 and parameters: {'layer_size': 309, 'learning_rate': 0.0008950023784610857, 'batch_size': 141, 'l2_reg': 5.773277029745797e-05, 'dropout_p': 0.4884396767641589}. Best is trial 9 with value: 0.4670361280441284.\n",
      "[I 2024-11-20 11:44:15,056] Trial 29 finished with value: 0.4733162820339203 and parameters: {'layer_size': 393, 'learning_rate': 0.006206760366822903, 'batch_size': 179, 'l2_reg': 0.0007527553322952788, 'dropout_p': 0.3856794229012394}. Best is trial 9 with value: 0.4670361280441284.\n"
     ]
    },
    {
     "name": "stdout",
     "output_type": "stream",
     "text": [
      "Best trial:\n",
      "Loss: 0.467\n",
      "Optimal parameters values:\n",
      "layer_size: 370\n",
      "learning_rate: 0.00010025466554823316\n",
      "batch_size: 138\n",
      "l2_reg: 0.0005110293674376818\n",
      "dropout_p: 0.39914701690354404\n"
     ]
    }
   ],
   "source": [
    "from optuna.samplers import RandomSampler\n",
    "\n",
    "study = optuna.create_study(direction=\"minimize\", sampler=RandomSampler())\n",
    "study.optimize(objective, n_trials=30)\n",
    "\n",
    "print(\"Best trial:\")\n",
    "trial = study.best_trial\n",
    "print(f\"Loss: {trial.value:.4}\")\n",
    "\n",
    "print(\"Optimal parameters values:\")\n",
    "for key, value in trial.params.items():\n",
    "    print(\"{}: {}\".format(key, value))"
   ]
  },
  {
   "cell_type": "markdown",
   "metadata": {
    "tags": [
     "ex"
    ]
   },
   "source": [
    "#### Porównanie wyników, komentarz\n",
    "\n",
    "Niestety funkcja `objective` zwraca tylko wartość funkcji kosztu (którą chcemy minimalizować), więc żeby poznać wartości pozostałych metryk poniżej uruchomię uczenie modelu z dwoma zestawami hiperparametrów, znalezionymi powyżej.\n",
    "\n",
    "Czasowo oba podejścia zajęły mniej więcej 10 minut, przy czym poszczególne iteracje zajmowały różny czas (zależy to od parametrów i np. wystąpienia *early stopping*). Wyniki są bardzo podobne (minimalnie na korzyść `RandomSampler`), natomiast wartości parametrów się różnią.\n",
    "\n",
    "Można się zastanawiać, jak wpłynęłoby na wyniki zwiększenie liczby iteracji (np. do 100) lub zmiana zakresu wartości dla parametrów - mam nadzieję, że przyjęte przeze mnie są rozsądne."
   ]
  },
  {
   "cell_type": "code",
   "execution_count": 66,
   "metadata": {
    "tags": [
     "ex"
    ]
   },
   "outputs": [
    {
     "name": "stdout",
     "output_type": "stream",
     "text": [
      "Epoch 0 train loss: 0.4968, eval loss 0.5319\n",
      "Epoch 1 train loss: 0.5441, eval loss 0.4977\n",
      "Epoch 2 train loss: 0.5220, eval loss 0.4864\n",
      "Epoch 3 train loss: 0.5182, eval loss 0.4796\n",
      "Epoch 4 train loss: 0.5029, eval loss 0.4751\n",
      "Epoch 5 train loss: 0.4584, eval loss 0.4731\n",
      "Epoch 6 train loss: 0.5190, eval loss 0.4711\n",
      "Epoch 7 train loss: 0.5184, eval loss 0.4704\n",
      "Epoch 8 train loss: 0.5075, eval loss 0.4694\n",
      "Epoch 9 train loss: 0.4733, eval loss 0.4689\n",
      "Epoch 10 train loss: 0.5079, eval loss 0.4686\n",
      "Epoch 11 train loss: 0.5106, eval loss 0.4682\n",
      "Epoch 12 train loss: 0.4359, eval loss 0.4679\n",
      "Epoch 13 train loss: 0.4976, eval loss 0.4683\n",
      "Epoch 14 train loss: 0.4640, eval loss 0.4679\n",
      "Epoch 15 train loss: 0.4693, eval loss 0.4679\n",
      "Epoch 16 train loss: 0.5285, eval loss 0.4675\n",
      "Epoch 17 train loss: 0.4700, eval loss 0.4681\n",
      "Epoch 18 train loss: 0.4734, eval loss 0.4677\n",
      "Epoch 19 train loss: 0.4573, eval loss 0.4678\n",
      "Epoch 20 train loss: 0.4950, eval loss 0.4684\n",
      "Epoch 21 train loss: 0.4587, eval loss 0.4684\n",
      "Epoch 22 train loss: 0.4737, eval loss 0.4688\n",
      "Epoch 23 train loss: 0.4933, eval loss 0.4684\n",
      "Epoch 24 train loss: 0.4619, eval loss 0.4688\n",
      "Epoch 25 train loss: 0.5233, eval loss 0.4695\n",
      "Epoch 26 train loss: 0.4665, eval loss 0.4698\n"
     ]
    }
   ],
   "source": [
    "# define all the hyperparameters\n",
    "learning_rate = 0.0001683091748220402\n",
    "dropout_p = 0.4627892203874441\n",
    "l2_reg = 1.5850889693307734e-05\n",
    "batch_size = 188\n",
    "layer_size = 329\n",
    "\n",
    "model = OptimizedMLP(X_train.shape[1], layer_size, dropout_p)\n",
    "optimizer = torch.optim.Adam(model.parameters(), lr=learning_rate, weight_decay=l2_reg)\n",
    "\n",
    "loss_fn = torch.nn.BCEWithLogitsLoss(pos_weight=torch.from_numpy(weights)[1])\n",
    "\n",
    "train_dataset = MyDataset(X_train, y_train)\n",
    "train_dataloader = DataLoader(train_dataset, batch_size=batch_size)\n",
    "\n",
    "steps_without_improvement = 0\n",
    "\n",
    "best_val_loss = np.inf\n",
    "best_model = None\n",
    "best_threshold = None\n",
    "\n",
    "for epoch_num in range(max_epochs):\n",
    "    model.train()\n",
    "\n",
    "    # note that we are using DataLoader to get batches\n",
    "    for X_batch, y_batch in train_dataloader:\n",
    "        # model training\n",
    "        y_pred = model(X_batch)\n",
    "        loss = loss_fn(y_pred, y_batch)\n",
    "        loss.backward()\n",
    "\n",
    "        optimizer.step()\n",
    "        optimizer.zero_grad()\n",
    "\n",
    "    # model evaluation, early stopping\n",
    "    model.eval()\n",
    "    valid_metrics = evaluate_model(model, X_valid, y_valid, loss_fn)\n",
    "\n",
    "    if valid_metrics[\"loss\"] < best_val_loss:\n",
    "        steps_without_improvement = 0\n",
    "        best_val_loss = valid_metrics[\"loss\"]\n",
    "        best_model = model\n",
    "        best_threshold = valid_metrics[\"threshold\"]\n",
    "    elif steps_without_improvement == early_stopping_patience:\n",
    "        break\n",
    "    else:\n",
    "        steps_without_improvement += 1\n",
    "        \n",
    "    print(f\"Epoch {epoch_num} train loss: {loss.item():.4f}, eval loss {valid_metrics['loss']:.4f}\")"
   ]
  },
  {
   "cell_type": "code",
   "execution_count": 67,
   "metadata": {
    "tags": [
     "ex"
    ]
   },
   "outputs": [
    {
     "name": "stdout",
     "output_type": "stream",
     "text": [
      "AUROC: 90.90%\n",
      "F1: 70.20%\n",
      "Precision: 64.09%\n",
      "Recall: 77.61%\n"
     ]
    }
   ],
   "source": [
    "test_metrics = evaluate_model(best_model, X_test, y_test, loss_fn, best_threshold)\n",
    "\n",
    "print(f\"AUROC: {test_metrics['AUROC']:.2%}\")\n",
    "print(f\"F1: {test_metrics['F1-score']:.2%}\")\n",
    "print(f\"Precision: {test_metrics['precision']:.2%}\")\n",
    "print(f\"Recall: {test_metrics['recall']:.2%}\")"
   ]
  },
  {
   "cell_type": "code",
   "execution_count": 68,
   "metadata": {
    "tags": [
     "ex"
    ]
   },
   "outputs": [
    {
     "name": "stdout",
     "output_type": "stream",
     "text": [
      "Epoch 0 train loss: 0.5959, eval loss 0.5327\n",
      "Epoch 1 train loss: 0.5612, eval loss 0.5011\n",
      "Epoch 2 train loss: 0.5631, eval loss 0.4873\n",
      "Epoch 3 train loss: 0.5325, eval loss 0.4802\n",
      "Epoch 4 train loss: 0.5163, eval loss 0.4771\n",
      "Epoch 5 train loss: 0.5458, eval loss 0.4741\n",
      "Epoch 6 train loss: 0.5580, eval loss 0.4724\n",
      "Epoch 7 train loss: 0.5535, eval loss 0.4713\n",
      "Epoch 8 train loss: 0.5323, eval loss 0.4706\n",
      "Epoch 9 train loss: 0.5453, eval loss 0.4702\n",
      "Epoch 10 train loss: 0.4926, eval loss 0.4693\n",
      "Epoch 11 train loss: 0.5282, eval loss 0.4688\n",
      "Epoch 12 train loss: 0.5662, eval loss 0.4683\n",
      "Epoch 13 train loss: 0.5524, eval loss 0.4684\n",
      "Epoch 14 train loss: 0.4888, eval loss 0.4676\n",
      "Epoch 15 train loss: 0.5257, eval loss 0.4674\n",
      "Epoch 16 train loss: 0.5222, eval loss 0.4676\n",
      "Epoch 17 train loss: 0.5355, eval loss 0.4676\n",
      "Epoch 18 train loss: 0.4964, eval loss 0.4672\n",
      "Epoch 19 train loss: 0.5282, eval loss 0.4675\n",
      "Epoch 20 train loss: 0.5178, eval loss 0.4669\n",
      "Epoch 21 train loss: 0.5117, eval loss 0.4671\n",
      "Epoch 22 train loss: 0.5374, eval loss 0.4675\n",
      "Epoch 23 train loss: 0.4933, eval loss 0.4676\n",
      "Epoch 24 train loss: 0.5036, eval loss 0.4677\n",
      "Epoch 25 train loss: 0.5179, eval loss 0.4673\n",
      "Epoch 26 train loss: 0.5291, eval loss 0.4677\n",
      "Epoch 27 train loss: 0.5752, eval loss 0.4676\n",
      "Epoch 28 train loss: 0.4864, eval loss 0.4673\n",
      "Epoch 29 train loss: 0.5037, eval loss 0.4679\n",
      "Epoch 30 train loss: 0.4698, eval loss 0.4684\n"
     ]
    }
   ],
   "source": [
    "# define all the hyperparameters\n",
    "learning_rate = 0.00010025466554823316\n",
    "dropout_p = 0.39914701690354404\n",
    "l2_reg = 0.0005110293674376818\n",
    "batch_size = 138\n",
    "layer_size = 370\n",
    "\n",
    "model = OptimizedMLP(X_train.shape[1], layer_size, dropout_p)\n",
    "optimizer = torch.optim.Adam(model.parameters(), lr=learning_rate, weight_decay=l2_reg)\n",
    "\n",
    "loss_fn = torch.nn.BCEWithLogitsLoss(pos_weight=torch.from_numpy(weights)[1])\n",
    "\n",
    "train_dataset = MyDataset(X_train, y_train)\n",
    "train_dataloader = DataLoader(train_dataset, batch_size=batch_size)\n",
    "\n",
    "steps_without_improvement = 0\n",
    "\n",
    "best_val_loss = np.inf\n",
    "best_model = None\n",
    "best_threshold = None\n",
    "\n",
    "for epoch_num in range(max_epochs):\n",
    "    model.train()\n",
    "\n",
    "    # note that we are using DataLoader to get batches\n",
    "    for X_batch, y_batch in train_dataloader:\n",
    "        # model training\n",
    "        y_pred = model(X_batch)\n",
    "        loss = loss_fn(y_pred, y_batch)\n",
    "        loss.backward()\n",
    "\n",
    "        optimizer.step()\n",
    "        optimizer.zero_grad()\n",
    "\n",
    "    # model evaluation, early stopping\n",
    "    model.eval()\n",
    "    valid_metrics = evaluate_model(model, X_valid, y_valid, loss_fn)\n",
    "\n",
    "    if valid_metrics[\"loss\"] < best_val_loss:\n",
    "        steps_without_improvement = 0\n",
    "        best_val_loss = valid_metrics[\"loss\"]\n",
    "        best_model = model\n",
    "        best_threshold = valid_metrics[\"threshold\"]\n",
    "    elif steps_without_improvement == early_stopping_patience:\n",
    "        break\n",
    "    else:\n",
    "        steps_without_improvement += 1\n",
    "        \n",
    "    print(f\"Epoch {epoch_num} train loss: {loss.item():.4f}, eval loss {valid_metrics['loss']:.4f}\")"
   ]
  },
  {
   "cell_type": "code",
   "execution_count": 69,
   "metadata": {
    "tags": [
     "ex"
    ]
   },
   "outputs": [
    {
     "name": "stdout",
     "output_type": "stream",
     "text": [
      "AUROC: 90.88%\n",
      "F1: 69.97%\n",
      "Precision: 62.62%\n",
      "Recall: 79.27%\n"
     ]
    }
   ],
   "source": [
    "test_metrics = evaluate_model(best_model, X_test, y_test, loss_fn, best_threshold)\n",
    "\n",
    "print(f\"AUROC: {test_metrics['AUROC']:.2%}\")\n",
    "print(f\"F1: {test_metrics['F1-score']:.2%}\")\n",
    "print(f\"Precision: {test_metrics['precision']:.2%}\")\n",
    "print(f\"Recall: {test_metrics['recall']:.2%}\")"
   ]
  },
  {
   "cell_type": "markdown",
   "metadata": {
    "tags": [
     "ex"
    ]
   },
   "source": [
    "Wyniki są bardzo podobne (nawet chyba nieco lepsze) niż dla modeli testowanych we wcześniejszej części laboratorium."
   ]
  }
 ],
 "metadata": {
  "colab": {
   "collapsed_sections": [],
   "provenance": []
  },
  "jupytext": {
   "formats": "ipynb,py:percent"
  },
  "kernelspec": {
   "display_name": "Python 3 (ipykernel)",
   "language": "python",
   "name": "python3"
  },
  "language_info": {
   "codemirror_mode": {
    "name": "ipython",
    "version": 3
   },
   "file_extension": ".py",
   "mimetype": "text/x-python",
   "name": "python",
   "nbconvert_exporter": "python",
   "pygments_lexer": "ipython3",
   "version": "3.9.18"
  },
  "vscode": {
   "interpreter": {
    "hash": "a5d7af91182035c53be6efb3f9b18ffc3e259c9c524705249407647c970de949"
   }
  }
 },
 "nbformat": 4,
 "nbformat_minor": 4
}
